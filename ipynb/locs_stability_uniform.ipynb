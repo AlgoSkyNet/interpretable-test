{
 "cells": [
  {
   "cell_type": "markdown",
   "metadata": {},
   "source": [
    "This notebook investigates the stability of the learned test location. We consider the case where P is a mixture of two uniform distributions on 1D, one of which has small height, and the second component has a much larger height. Here Q is a uniform distribution whose mass strongly overlaps with the second component of P. \n",
    "\n",
    "The idea is that if the sample size n is low, we will have very few to no points from the first component of P, and the learned location will be at the second component. If n is high, the learned location will be at the first component since the difference is larger."
   ]
  },
  {
   "cell_type": "code",
   "execution_count": null,
   "metadata": {
    "collapsed": false
   },
   "outputs": [],
   "source": [
    "%load_ext autoreload\n",
    "%autoreload 2\n",
    "%matplotlib inline\n",
    "#%config InlineBackend.figure_format = 'svg'\n",
    "#%config InlineBackend.figure_format = 'pdf'\n",
    "import freqopttest.util as util\n",
    "import freqopttest.data as data\n",
    "import freqopttest.ex.exglobal as exglo\n",
    "import freqopttest.kernel as kernel\n",
    "import freqopttest.tst as tst\n",
    "import freqopttest.glo as glo\n",
    "import freqopttest.plot as plot\n",
    "import matplotlib.pyplot as plt\n",
    "import numpy as np\n",
    "import scipy.stats as stats\n",
    "import sys"
   ]
  },
  {
   "cell_type": "code",
   "execution_count": null,
   "metadata": {
    "collapsed": true
   },
   "outputs": [],
   "source": [
    "# font options\n",
    "font = {\n",
    "    #'family' : 'normal',\n",
    "    #'weight' : 'bold',\n",
    "    'size'   : 18\n",
    "}\n",
    "\n",
    "plt.rc('font', **font)\n",
    "plt.rc('lines', linewidth=2)"
   ]
  },
  {
   "cell_type": "code",
   "execution_count": null,
   "metadata": {
    "collapsed": true
   },
   "outputs": [],
   "source": [
    "class SSMix2Unif(data.SampleSource):\n",
    "    \"\"\"\n",
    "    1-d problem.\n",
    "    \n",
    "    P: U(m_p - w_p/2, mp+w_p/2) where w_p is the width of the uniform distribution, \n",
    "        m_p is the mean\n",
    "    Q: w*U(m_q-w_q/2, mq+w_q/2) + (1-w)*p(x) where p(x) is the density of \n",
    "    \"\"\"\n",
    "    def __init__(self, w, mp, wp, mq, wq):\n",
    "        if not (w>=0 and w<=1):\n",
    "            raise RuntimeError('w must be in [0, 1]')\n",
    "           \n",
    "        self.w = w\n",
    "        self.mp = mp\n",
    "        self.wp = wp\n",
    "        self.mq = mq\n",
    "        self.wq = wq\n",
    "\n",
    "    def dim(self):\n",
    "        return 1\n",
    "\n",
    "    def sample(self, n, seed):\n",
    "        \n",
    "        rstate = np.random.get_state()\n",
    "        np.random.seed(seed)\n",
    "        \n",
    "        w = self.w\n",
    "        mp = self.mp\n",
    "        wp = self.wp\n",
    "        mq = self.mq\n",
    "        wq = self.wq\n",
    "        \n",
    "        disc_var = stats.rv_discrete(values=([0, 1], [w, 1-w]) )\n",
    "        ind = disc_var.rvs(size=n)\n",
    "        \n",
    "        ind0 = ind==0\n",
    "        #print ind0\n",
    "        ind1 = ind==1\n",
    "        # draw from Q\n",
    "        ys = stats.uniform.rvs(loc=mq-wq/2.0, scale=wq, size=np.sum(ind0))\n",
    "        yb = stats.uniform.rvs(loc=mp-wp/2.0, scale=wp, size=np.sum(ind1))\n",
    "        y = np.hstack((ys, yb))\n",
    "        y = y[:, np.newaxis]\n",
    "                \n",
    "        # draw from P\n",
    "        x = stats.uniform.rvs(loc=mp-wp/2.0, scale=wp, size=n)\n",
    "        x = x[:, np.newaxis]\n",
    "        np.random.set_state(rstate)\n",
    "        return data.TSTData(x, y, label='mix2unif')"
   ]
  },
  {
   "cell_type": "code",
   "execution_count": null,
   "metadata": {
    "collapsed": false
   },
   "outputs": [],
   "source": [
    "# sample source \n",
    "n = 300\n",
    "alpha = 0.01\n",
    "w = 0.05\n",
    "seed = 43\n",
    "prob_params = {'w': w, 'mp': 5, 'wp': 4, 'mq': 0, 'wq': 2}\n",
    "ss = SSMix2Unif(**prob_params)"
   ]
  },
  {
   "cell_type": "code",
   "execution_count": null,
   "metadata": {
    "collapsed": false
   },
   "outputs": [],
   "source": [
    "tst_data = ss.sample(n, seed=seed)\n",
    "tr = ss.sample(n/2, seed=seed)\n",
    "te = ss.sample(n/2, seed=seed+1)\n",
    "#tr, te = tst_data.split_tr_te(tr_proportion=0.5, seed=10)\n",
    "nte = te.X.shape[0]"
   ]
  },
  {
   "cell_type": "code",
   "execution_count": null,
   "metadata": {
    "collapsed": false
   },
   "outputs": [],
   "source": [
    "xtr, ytr = tr.xy()\n",
    "xytr = tr.stack_xy()\n",
    "bins = np.linspace(np.min(xytr), np.max(xytr), 30)\n",
    "plt.hist(xtr, bins, label='X', alpha=0.5)\n",
    "plt.hist(ytr, bins, label='Y', alpha=0.5)\n",
    "plt.legend(loc='best')"
   ]
  },
  {
   "cell_type": "markdown",
   "metadata": {},
   "source": [
    "## Check stability of the two modes"
   ]
  },
  {
   "cell_type": "markdown",
   "metadata": {},
   "source": [
    "Here we fix the test location to either on the left or the right bump and compare the objective function value."
   ]
  },
  {
   "cell_type": "code",
   "execution_count": null,
   "metadata": {
    "collapsed": true
   },
   "outputs": [],
   "source": [
    "alpha = 0.01\n",
    "nte = 400\n",
    "rep=300"
   ]
  },
  {
   "cell_type": "code",
   "execution_count": null,
   "metadata": {
    "collapsed": true
   },
   "outputs": [],
   "source": [
    "# repeat many trials to see the value of the optimized location\n",
    "def two_locations_test_results(nte):\n",
    "    Tp_results = []\n",
    "    Tq_results = []\n",
    "    shift_seed = 1000\n",
    "    for r in range(shift_seed, shift_seed+rep):    \n",
    "        #tst_data = ss.sample(n, seed=r)\n",
    "        #tr, te = tst_data.split_tr_te(tr_proportion=0.5, seed=10)\n",
    "        te = ss.sample(nte, seed=r+1)\n",
    "        \n",
    "        # test locations\n",
    "        \n",
    "        # test loc at the small bump\n",
    "        Tq = np.array([[prob_params['mq']]])\n",
    "        # test loc at the big bump\n",
    "        Tp = np.array([[prob_params['mp']]])\n",
    "\n",
    "        gwidth0 = util.meddistance(tr.stack_xy(), subsample=1000)**2\n",
    "\n",
    "        # actual test \n",
    "        q_met = tst.MeanEmbeddingTest(Tq, gwidth0, alpha)\n",
    "        Tq_results.append(q_met.perform_test(te))\n",
    "        p_met = tst.MeanEmbeddingTest(Tp, gwidth0, alpha)\n",
    "        Tp_results.append(p_met.perform_test(te))\n",
    "    return Tp_results, Tq_results\n"
   ]
  },
  {
   "cell_type": "code",
   "execution_count": null,
   "metadata": {
    "collapsed": false
   },
   "outputs": [],
   "source": [
    "Tp_results, Tq_results = two_locations_test_results(nte)\n",
    "tp_lambs = np.array([r['test_stat'] for r in Tp_results ])\n",
    "tq_lambs = np.array([r['test_stat'] for r in Tq_results ])"
   ]
  },
  {
   "cell_type": "code",
   "execution_count": null,
   "metadata": {
    "collapsed": false
   },
   "outputs": [],
   "source": [
    "plt.hist(tp_lambs, label='init v at big bump', alpha=0.6)\n",
    "plt.hist(tq_lambs, label='init v at small bump', alpha=0.6)\n",
    "plt.xlabel('$\\hat{\\lambda}_n$')\n",
    "plt.ylabel('frequency')\n",
    "plt.legend()"
   ]
  },
  {
   "cell_type": "code",
   "execution_count": null,
   "metadata": {
    "collapsed": false
   },
   "outputs": [],
   "source": [
    "n_small_bump_high = np.sum(tq_lambs>tp_lambs)\n",
    "print '#trials where small bump higher: %d/%d (%.2f%%)' %(n_small_bump_high, rep, 100*float(n_small_bump_high)/rep)\n",
    "print 'std of left lambs: %.3f'%(np.std(tq_lambs))\n",
    "print 'std of right lambs: %.3f'%(np.std(tp_lambs))"
   ]
  },
  {
   "cell_type": "code",
   "execution_count": null,
   "metadata": {
    "collapsed": true
   },
   "outputs": [],
   "source": [
    "def prob_tq_better(nte):\n",
    "    Tp_results, Tq_results = two_locations_test_results(nte)\n",
    "    tp_lambs = np.array([r['test_stat'] for r in Tp_results ])\n",
    "    tq_lambs = np.array([r['test_stat'] for r in Tq_results ])\n",
    "    n_left_high = np.sum(tq_lambs>tp_lambs)\n",
    "    return float(n_left_high)/rep, tp_lambs, tq_lambs\n",
    "\n",
    "#ntes = np.linspace(50, 300, num=7, dtype=np.int64)\n",
    "ntes = np.array([ 25, 50, 75, 100, 150, 200, 250])\n",
    "\n",
    "tup_ntes = [prob_tq_better(nte) for nte in ntes]"
   ]
  },
  {
   "cell_type": "code",
   "execution_count": null,
   "metadata": {
    "collapsed": false,
    "scrolled": true
   },
   "outputs": [],
   "source": [
    "ps_small_better = np.array([t[0] for t in tup_ntes])\n",
    "\n",
    "plt.plot(ntes, ps_small_better, 'ob-')\n",
    "plt.xlabel('nte')\n",
    "plt.ylabel('p(loc at small bump gives high $\\hat{\\lambda}_n$)')"
   ]
  },
  {
   "cell_type": "code",
   "execution_count": null,
   "metadata": {
    "collapsed": false
   },
   "outputs": [],
   "source": [
    "tp_lamb_means = np.array([np.mean(l) for l in [t[1] for t in tup_ntes]])\n",
    "tp_lamb_stds = np.array([np.std(l) for l in [t[1] for t in tup_ntes]])\n",
    "tq_lamb_means = np.array([np.mean(l) for l in [t[2] for t in tup_ntes]])\n",
    "tq_lamb_stds = np.array([np.std(l) for l in [t[2] for t in tup_ntes]])\n",
    "\n",
    "print('mq is the mean of the small bump')\n",
    "plt.errorbar(ntes, tp_lamb_means, tp_lamb_stds, \n",
    "             label=r'$\\hat{\\mathbb{E}}[\\hat{\\lambda}_n \\mid \\mathrm{at }\\,\\, m_p]$')\n",
    "plt.errorbar(ntes, tq_lamb_means, tq_lamb_stds, \n",
    "             label=r'$\\hat{\\mathbb{E}}[\\hat{\\lambda}_n \\mid \\mathrm{at }\\,\\, m_q]$')\n",
    "plt.xlabel('test sample size')\n",
    "plt.ylabel('$\\hat{\\lambda}_n$')\n",
    "plt.legend(loc='best')"
   ]
  },
  {
   "cell_type": "code",
   "execution_count": null,
   "metadata": {
    "collapsed": true
   },
   "outputs": [],
   "source": []
  }
 ],
 "metadata": {
  "kernelspec": {
   "display_name": "Python 2",
   "language": "python",
   "name": "python2"
  },
  "language_info": {
   "codemirror_mode": {
    "name": "ipython",
    "version": 2
   },
   "file_extension": ".py",
   "mimetype": "text/x-python",
   "name": "python",
   "nbconvert_exporter": "python",
   "pygments_lexer": "ipython2",
   "version": "2.7.11"
  }
 },
 "nbformat": 4,
 "nbformat_minor": 0
}
