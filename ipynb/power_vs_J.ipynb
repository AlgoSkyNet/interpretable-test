{
 "cells": [
  {
   "cell_type": "markdown",
   "metadata": {},
   "source": [
    "This notebook investigates the test power vs. the number of test locations J in an incremental way. Specifically, we conjectured that the test power using $\\mathcal{T}$, the set of $J$ locations should not be higher than the test power obtained by using $\\mathcal{T} \\cup \\{t_{J+1}\\}$"
   ]
  },
  {
   "cell_type": "code",
   "execution_count": null,
   "metadata": {
    "collapsed": false
   },
   "outputs": [],
   "source": [
    "%load_ext autoreload\n",
    "%autoreload 2\n",
    "%matplotlib inline\n",
    "#%config InlineBackend.figure_format = 'svg'\n",
    "#%config InlineBackend.figure_format = 'pdf'\n",
    "import freqopttest.util as util\n",
    "import freqopttest.data as data\n",
    "import freqopttest.ex.exglobal as exglo\n",
    "import freqopttest.kernel as kernel\n",
    "import freqopttest.tst as tst\n",
    "import freqopttest.glo as glo\n",
    "import freqopttest.plot as plot\n",
    "import matplotlib.pyplot as plt\n",
    "import numpy as np\n",
    "import scipy.stats as stats\n",
    "import sys"
   ]
  },
  {
   "cell_type": "code",
   "execution_count": null,
   "metadata": {
    "collapsed": true
   },
   "outputs": [],
   "source": [
    "# font options\n",
    "font = {\n",
    "    #'family' : 'normal',\n",
    "    #'weight' : 'bold',\n",
    "    'size'   : 18\n",
    "}\n",
    "\n",
    "plt.rc('font', **font)\n",
    "plt.rc('lines', linewidth=2)"
   ]
  },
  {
   "cell_type": "code",
   "execution_count": null,
   "metadata": {
    "collapsed": false
   },
   "outputs": [],
   "source": [
    "# sample source \n",
    "n = 500\n",
    "dim = 30\n",
    "seed = 13\n",
    "#ss = data.SSGaussMeanDiff(dim, my=0.5)\n",
    "ss = data.SSGaussVarDiff(dim)\n",
    "#ss = data.SSSameGauss(dim)\n",
    "#ss = data.SSBlobs()\n",
    "dim = ss.dim()\n",
    "tst_data = ss.sample(n, seed=seed)\n",
    "tr, te = tst_data.split_tr_te(tr_proportion=0.5, seed=seed+82)\n",
    "\n",
    "J = 2\n",
    "alpha = 0.01\n",
    "T = tst.MeanEmbeddingTest.init_locs_2randn(tr, J, seed=seed+1)\n",
    "#T = np.random.randn(J, dim)"
   ]
  },
  {
   "cell_type": "code",
   "execution_count": null,
   "metadata": {
    "collapsed": false
   },
   "outputs": [],
   "source": [
    "med = util.meddistance(tr.stack_xy(), 800)\n",
    "list_gwidth = np.hstack( ( (med**2) *(2.0**np.linspace(-5, 5, 30) ) ) )\n",
    "list_gwidth.sort()\n",
    "besti, powers = tst.MeanEmbeddingTest.grid_search_gwidth(tr, T, list_gwidth, alpha)\n"
   ]
  },
  {
   "cell_type": "code",
   "execution_count": null,
   "metadata": {
    "collapsed": false,
    "scrolled": true
   },
   "outputs": [],
   "source": [
    "# test with the best Gaussian with \n",
    "best_width = list_gwidth[besti]\n",
    "met_grid = tst.MeanEmbeddingTest(T, best_width, alpha)\n",
    "met_grid.perform_test(te)"
   ]
  },
  {
   "cell_type": "markdown",
   "metadata": {},
   "source": [
    "## $\\hat{\\lambda}_n$ vs $J$"
   ]
  },
  {
   "cell_type": "code",
   "execution_count": null,
   "metadata": {
    "collapsed": false
   },
   "outputs": [],
   "source": [
    "def draw_t(tst_data, seed=None):\n",
    "    # Fit one Gaussian to the X,Y data. \n",
    "    if seed is not None:\n",
    "        rand_state = np.random.get_state()\n",
    "        np.random.seed(seed)\n",
    "\n",
    "    xy = tst_data.stack_xy()\n",
    "    # fit a Gaussian to each of X, Y\n",
    "    m = np.mean(xy, 0)\n",
    "    cov = np.cov(xy.T)\n",
    "    t = np.random.multivariate_normal(m, cov, 1)\n",
    "    \n",
    "    # reset the seed back\n",
    "    if seed is not None:\n",
    "        np.random.set_state(rand_state)\n",
    "    return t\n"
   ]
  },
  {
   "cell_type": "code",
   "execution_count": null,
   "metadata": {
    "collapsed": false
   },
   "outputs": [],
   "source": [
    "def simulate_stats_trajectory(T):\n",
    "    Tn = T\n",
    "    # add one new test location at a time.\n",
    "    trials = 30\n",
    "    test_stats = np.zeros(trials)\n",
    "    for i in range(trials):\n",
    "        # draw new location\n",
    "        t = draw_t(tr)\n",
    "        Tn = np.vstack((Tn, t))\n",
    "        met = tst.MeanEmbeddingTest(Tn, best_width, alpha)\n",
    "        tresult = met.perform_test(te)\n",
    "        test_stats[i] = tresult['test_stat']\n",
    "    return test_stats, Tn\n",
    "\n",
    "for rep in range(6):\n",
    "    test_stats, Tn = simulate_stats_trajectory(T)\n",
    "    plt.plot(np.arange(len(T), len(Tn)), test_stats)\n",
    "    print('stats increasing: %s', np.all(np.diff(test_stats)>=0) )\n",
    "plt.xlabel('$J$')\n",
    "plt.title('$\\hat{\\lambda}_n$ as J increases')"
   ]
  },
  {
   "cell_type": "code",
   "execution_count": null,
   "metadata": {
    "collapsed": false
   },
   "outputs": [],
   "source": [
    "# plot p-value. \n",
    "for r in range(6):\n",
    "    test_stats, Tn = simulate_stats_trajectory(T)\n",
    "    Js = np.arange(len(T), len(Tn))\n",
    "    pvals = [stats.chi2.sf(s, df=J) for s, J in zip(test_stats, Js)]\n",
    "    plt.plot(Js, pvals)\n",
    "plt.xlabel('$J$')\n",
    "plt.title('p-values as J increases')"
   ]
  },
  {
   "cell_type": "markdown",
   "metadata": {
    "collapsed": true
   },
   "source": [
    "## test threshold vs J"
   ]
  },
  {
   "cell_type": "code",
   "execution_count": null,
   "metadata": {
    "collapsed": false
   },
   "outputs": [],
   "source": [
    "Js = range(1, 30)\n",
    "alphas = [1e-6, 0.005, 0.01, 0.05, 0.1]\n",
    "\n",
    "\n",
    "for i, al in enumerate(alphas):\n",
    "    threshs = [stats.chi2.isf(al, df=J) for J in Js ]        \n",
    "    plt.plot(Js, threshs, '-', label='$\\\\alpha = %.3g$'%(al) )\n",
    "plt.xlabel('J')\n",
    "plt.ylabel('$T_\\\\alpha$')\n",
    "plt.legend(loc='best')"
   ]
  },
  {
   "cell_type": "markdown",
   "metadata": {
    "collapsed": true
   },
   "source": [
    "The test threshold $T_\\alpha$ seems to increase approximately linearly with respect to $J$ for any value of $\\alpha$. The slope is roughly constant for all $\\alpha$."
   ]
  },
  {
   "cell_type": "code",
   "execution_count": null,
   "metadata": {
    "collapsed": true
   },
   "outputs": [],
   "source": []
  }
 ],
 "metadata": {
  "kernelspec": {
   "display_name": "Python 2",
   "language": "python",
   "name": "python2"
  },
  "language_info": {
   "codemirror_mode": {
    "name": "ipython",
    "version": 2
   },
   "file_extension": ".py",
   "mimetype": "text/x-python",
   "name": "python",
   "nbconvert_exporter": "python",
   "pygments_lexer": "ipython2",
   "version": "2.7.11"
  }
 },
 "nbformat": 4,
 "nbformat_minor": 0
}
