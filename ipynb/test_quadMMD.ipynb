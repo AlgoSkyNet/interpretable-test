{
 "cells": [
  {
   "cell_type": "markdown",
   "metadata": {},
   "source": [
    "Test quadratic MMD two-sample test"
   ]
  },
  {
   "cell_type": "code",
   "execution_count": 80,
   "metadata": {
    "collapsed": false
   },
   "outputs": [
    {
     "name": "stdout",
     "output_type": "stream",
     "text": [
      "The autoreload extension is already loaded. To reload it, use:\n",
      "  %reload_ext autoreload\n"
     ]
    }
   ],
   "source": [
    "%load_ext autoreload\n",
    "%autoreload 2\n",
    "%matplotlib inline\n",
    "import numpy as np\n",
    "import matplotlib.pyplot as plt\n",
    "import freqopttest.util as util\n",
    "import freqopttest.data as data\n",
    "import freqopttest.kernel as kernel\n",
    "import freqopttest.tst as tst\n",
    "import freqopttest.glo as glo\n",
    "import scipy.stats as stats\n",
    "import sys"
   ]
  },
  {
   "cell_type": "code",
   "execution_count": 81,
   "metadata": {
    "collapsed": false
   },
   "outputs": [],
   "source": [
    "# sample source \n",
    "n = 500\n",
    "dim = 10\n",
    "alpha = 0.01\n",
    "seed = 22\n",
    "\n",
    "ss = data.SSGaussMeanDiff(dim, my=0.5)\n",
    "#ss = data.SSSameGauss(d=dim)\n",
    "#ss = data.SSGaussVarDiff(dim)\n",
    "#ss = data.SSBlobs()\n",
    "tst_data = ss.sample(n, seed=seed)\n",
    "tr, te = tst_data.split_tr_te(tr_proportion=0.5, seed=10)\n"
   ]
  },
  {
   "cell_type": "markdown",
   "metadata": {},
   "source": [
    "## Test Quadratic MMD"
   ]
  },
  {
   "cell_type": "code",
   "execution_count": 82,
   "metadata": {
    "collapsed": true
   },
   "outputs": [],
   "source": [
    "med = util.meddistance(tr.stack_xy(), 1000)\n",
    "list_gwidth = np.hstack( ( (med**2) *(2.0**np.linspace(-4, 4, 20) ) ) )\n",
    "list_gwidth.sort()\n",
    "list_kernels = [kernel.KGauss(gw2) for gw2 in list_gwidth]\n",
    "besti, powers = tst.QuadMMDTest.grid_search_kernel(tr, list_kernels, alpha)"
   ]
  },
  {
   "cell_type": "code",
   "execution_count": 83,
   "metadata": {
    "collapsed": false,
    "scrolled": true
   },
   "outputs": [
    {
     "name": "stdout",
     "output_type": "stream",
     "text": [
      "med^2: 18.816\n",
      "best width^2: 301.054\n"
     ]
    },
    {
     "data": {
      "text/plain": [
       "<matplotlib.text.Text at 0x7f0b7ace3c90>"
      ]
     },
     "execution_count": 83,
     "metadata": {},
     "output_type": "execute_result"
    },
    {
     "data": {
      "image/png": "[encoded data removed]",
      "text/plain": [
       "<matplotlib.figure.Figure at 0x7f0b7ab743d0>"
      ]
     },
     "metadata": {},
     "output_type": "display_data"
    }
   ],
   "source": [
    "print 'med^2: %.3f'%med**2\n",
    "print 'best width^2: %.3f'%(list_gwidth[besti])\n",
    "plt.plot(list_gwidth, powers, 'o-')\n",
    "plt.xlabel('Gaussian width^2')\n",
    "plt.ylabel('Approx. test power')"
   ]
  },
  {
   "cell_type": "code",
   "execution_count": 84,
   "metadata": {
    "collapsed": false,
    "scrolled": true
   },
   "outputs": [
    {
     "data": {
      "text/plain": [
       "{'alpha': 0.01,\n",
       " 'h0_rejected': True,\n",
       " 'list_permuted_mmd2': array([  4.37025556e-05,   1.63298159e-04,  -3.69756120e-05,\n",
       "         -7.73741701e-05,  -2.43246608e-04,  -1.97527745e-04,\n",
       "          4.02980117e-05,  -2.90391228e-04,  -1.92496005e-05,\n",
       "         -2.30991666e-04,  -1.96227710e-04,   2.65258424e-04,\n",
       "          2.30377112e-04,   3.61649146e-04,   3.12163935e-04,\n",
       "         -2.09163697e-04,  -1.08441927e-04,  -1.01942115e-04,\n",
       "         -5.94875256e-05,  -3.24379836e-04,  -2.26304561e-04,\n",
       "         -2.47684427e-04,   1.37297751e-04,   4.42409624e-04,\n",
       "         -1.13379025e-04,   4.47131575e-04,   2.49946022e-04,\n",
       "          1.02804613e-04,  -3.30872105e-04,   6.01894110e-05,\n",
       "          1.36015944e-04,   2.79157929e-04,  -5.11018890e-05,\n",
       "          7.34100135e-05,  -1.18582198e-04,  -3.10451840e-04,\n",
       "         -1.45135362e-04,   5.47991739e-05,  -1.68065617e-04,\n",
       "         -1.13417748e-05,  -2.51429649e-04,   2.33609777e-05,\n",
       "         -5.29862103e-05,   4.57575019e-05,  -2.29040404e-04,\n",
       "         -3.11821065e-04,  -9.87978405e-05,   3.54928438e-06,\n",
       "         -3.87043226e-05,  -1.91231212e-04,   3.25248519e-04,\n",
       "         -8.12380445e-05,  -2.91399082e-04,  -4.07860390e-05,\n",
       "         -2.21975127e-05,   4.05783259e-05,  -1.86063051e-04,\n",
       "         -4.09989754e-05,  -1.04717770e-04,  -8.45219719e-05,\n",
       "          5.04958965e-07,  -3.49879897e-04,  -3.99561722e-04,\n",
       "         -3.81517841e-04,  -1.58377368e-04,   1.84147746e-04,\n",
       "          4.47524271e-04,   3.75462903e-04,  -1.03335588e-04,\n",
       "          8.00356095e-06,  -9.22029324e-05,   1.17628710e-04,\n",
       "         -4.43565286e-05,  -2.71500610e-04,  -2.19608900e-04,\n",
       "          5.19432867e-05,   2.17138182e-04,   8.02479443e-05,\n",
       "          9.32387215e-05,  -9.55312377e-05,  -2.59528078e-04,\n",
       "          4.77828887e-05,   3.10967104e-04,  -2.59688543e-04,\n",
       "          1.01445371e-04,  -1.72239442e-04,   2.76412295e-04,\n",
       "          1.30953857e-05,   2.74732408e-04,  -2.53674916e-04,\n",
       "          5.49632435e-06,   1.36953824e-04,  -2.80656373e-04,\n",
       "          4.95687360e-04,  -9.79158836e-05,   2.20326597e-04,\n",
       "          8.71104251e-05,  -1.13748521e-04,   2.93642858e-04,\n",
       "         -1.56296759e-04,  -1.34950833e-04,  -7.31677923e-05,\n",
       "          1.54438448e-04,  -1.84806712e-04,   1.84727417e-04,\n",
       "         -2.41854738e-04,   4.93510496e-04,  -7.55723534e-05,\n",
       "         -3.54518406e-05,   5.78852359e-05,  -2.91943854e-07,\n",
       "         -8.01529860e-05,   1.81567686e-04,   4.33331351e-04,\n",
       "         -1.58323778e-04,   3.64217110e-04,  -2.63065503e-05,\n",
       "         -2.62850302e-04,  -1.27067971e-04,  -2.07632431e-04,\n",
       "         -1.59459562e-04,   3.53873277e-04,  -2.40983181e-05,\n",
       "          4.29712833e-05,  -7.21208482e-05,  -1.61044004e-04,\n",
       "          2.04656059e-04,  -3.43574665e-04,  -1.55172792e-04,\n",
       "          1.24084034e-04,  -2.89085407e-04,  -1.73931070e-04,\n",
       "         -2.74571452e-04,   1.18402643e-04,   1.27937203e-04,\n",
       "          5.81843265e-05,  -1.82858683e-04,   2.43616443e-05,\n",
       "         -1.40693744e-04,  -8.36372310e-05,   9.04156923e-05,\n",
       "         -7.10158994e-05,  -1.31051327e-04,   1.89554602e-04,\n",
       "          4.79090837e-05,  -3.43670660e-06,   2.45783482e-05,\n",
       "          2.48353862e-04,  -2.35891848e-04,   5.49795331e-05,\n",
       "         -9.73161854e-05,  -2.63513172e-04,   1.60145310e-05,\n",
       "         -4.10451110e-05,  -5.35937355e-05,  -2.02634868e-04,\n",
       "          6.25030804e-05,  -2.14040967e-05,   1.13166179e-04,\n",
       "          4.53928148e-05,   3.97077077e-04,  -2.21320142e-04,\n",
       "          1.74601636e-04,  -1.54084020e-04,  -2.82891622e-04,\n",
       "         -2.45848327e-04,  -3.49162052e-04,   6.18175302e-05,\n",
       "         -1.98222480e-04,  -2.46641180e-04,   3.12530093e-04,\n",
       "         -1.31744015e-04,   1.02887676e-04,  -2.16001371e-04,\n",
       "          6.24455893e-05,  -1.08396027e-04,  -4.15302563e-05,\n",
       "         -2.85136684e-04,  -1.28526020e-04,  -4.49485900e-05,\n",
       "          2.25755953e-04,   4.27433793e-05,   2.87668705e-04,\n",
       "          9.97305791e-05,   1.28446912e-04,  -2.77410350e-04,\n",
       "          2.95263589e-04,  -2.30505168e-05,  -1.95056513e-04,\n",
       "         -4.32184663e-05,   9.58575930e-05,  -1.39502598e-04,\n",
       "          5.66098884e-04,  -3.69504568e-05,  -1.83676715e-04,\n",
       "         -1.69902705e-04,   3.61184577e-04,   2.52882041e-04,\n",
       "         -1.20828143e-04,  -1.96709137e-04]),\n",
       " 'pvalue': 0.0,\n",
       " 'test_stat': 0.0011809215612349488}"
      ]
     },
     "execution_count": 84,
     "metadata": {},
     "output_type": "execute_result"
    }
   ],
   "source": [
    "k = kernel.KGauss(list_gwidth[besti])\n",
    "mmd_test = tst.QuadMMDTest(k, n_permute=200, alpha=alpha)\n",
    "test_result = mmd_test.perform_test(te)\n",
    "test_result"
   ]
  },
  {
   "cell_type": "code",
   "execution_count": 85,
   "metadata": {
    "collapsed": false,
    "scrolled": false
   },
   "outputs": [
    {
     "data": {
      "text/plain": [
       "<matplotlib.legend.Legend at 0x7f0b7aef3e50>"
      ]
     },
     "execution_count": 85,
     "metadata": {},
     "output_type": "execute_result"
    },
    {
     "data": {
      "image/png": "[encoded data removed]",
      "text/plain": [
       "<matplotlib.figure.Figure at 0x7f0b7b36e2d0>"
      ]
     },
     "metadata": {},
     "output_type": "display_data"
    }
   ],
   "source": [
    "permuted_mmd2s = test_result['list_permuted_mmd2']\n",
    "stat = test_result['test_stat']\n",
    "bins = plt.hist(permuted_mmd2s, 10, normed=True, label='H0 Permuted MMD2');\n",
    "plt.xlabel('Permuted MMD^2 values')\n",
    "plt.ylabel('Normalized frequency')\n",
    "plt.stem([stat], [max(bins[0])/2], 'or-', label='Observed stat.')\n",
    "plt.legend()\n"
   ]
  },
  {
   "cell_type": "code",
   "execution_count": null,
   "metadata": {
    "collapsed": false
   },
   "outputs": [],
   "source": []
  },
  {
   "cell_type": "code",
   "execution_count": null,
   "metadata": {
    "collapsed": true
   },
   "outputs": [],
   "source": []
  },
  {
   "cell_type": "code",
   "execution_count": null,
   "metadata": {
    "collapsed": true
   },
   "outputs": [],
   "source": []
  }
 ],
 "metadata": {
  "kernelspec": {
   "display_name": "Python 2",
   "language": "python",
   "name": "python2"
  },
  "language_info": {
   "codemirror_mode": {
    "name": "ipython",
    "version": 2
   },
   "file_extension": ".py",
   "mimetype": "text/x-python",
   "name": "python",
   "nbconvert_exporter": "python",
   "pygments_lexer": "ipython2",
   "version": "2.7.10"
  }
 },
 "nbformat": 4,
 "nbformat_minor": 0
}
