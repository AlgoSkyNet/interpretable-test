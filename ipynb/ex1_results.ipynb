{
 "cells": [
  {
   "cell_type": "code",
   "execution_count": null,
   "metadata": {
    "collapsed": false
   },
   "outputs": [],
   "source": [
    "%load_ext autoreload\n",
    "%autoreload 2\n",
    "%matplotlib inline\n",
    "#%config InlineBackend.figure_format = 'svg'\n",
    "#%config InlineBackend.figure_format = 'svg'\n",
    "#%config InlineBackend.figure_format = 'pdf'\n",
    "import freqopttest.util as util\n",
    "import freqopttest.data as data\n",
    "import freqopttest.ex.exglobal as exglo\n",
    "import freqopttest.kernel as kernel\n",
    "import freqopttest.tst as tst\n",
    "import freqopttest.glo as glo\n",
    "import freqopttest.plot as plot\n",
    "import matplotlib.pyplot as plt\n",
    "import numpy as np\n",
    "import scipy.stats as stats\n",
    "import sys"
   ]
  },
  {
   "cell_type": "markdown",
   "metadata": {},
   "source": [
    "## Process ex1 results (test power vs n)"
   ]
  },
  {
   "cell_type": "code",
   "execution_count": null,
   "metadata": {
    "collapsed": false
   },
   "outputs": [],
   "source": [
    "def load_plot(fname, h1_true, show_legend=True, confidence=0.99):\n",
    "    # to get the test sizes\n",
    "    func_xvalues = lambda results: np.array(results['sample_sizes'])*(1.0 - results['tr_proportion'])\n",
    "    results = plot.plot_prob_stat_above_thresh(1, fname, h1_true, func_xvalues, 'Test sample size')\n",
    "    plt.title('')\n",
    "    plt.gca().legend().set_visible(show_legend)\n",
    "        \n",
    "    return results"
   ]
  },
  {
   "cell_type": "code",
   "execution_count": null,
   "metadata": {
    "collapsed": false
   },
   "outputs": [],
   "source": [
    "# font options\n",
    "font = {\n",
    "    #'family' : 'normal',\n",
    "    #'weight' : 'bold',\n",
    "    'size'   : 18\n",
    "}\n",
    "\n",
    "plt.rc('font', **font)\n",
    "plt.rc('lines', linewidth=2)"
   ]
  },
  {
   "cell_type": "code",
   "execution_count": null,
   "metadata": {
    "collapsed": false
   },
   "outputs": [],
   "source": [
    "### H0 true. Same Gaussian\n",
    "\n",
    "sg_fname = 'ex1-sg_d50-me7_J5_rs500_nmi2000_nma10000_a0.010_trp0.50.p'\n",
    "sg_results = load_plot(sg_fname, False, False)\n",
    "plt.ylim([0, 0.02])\n",
    "plt.savefig(sg_fname.replace('.p', '.pdf', 1))"
   ]
  },
  {
   "cell_type": "code",
   "execution_count": null,
   "metadata": {
    "collapsed": false
   },
   "outputs": [],
   "source": [
    "### H1 true. Blobs\n",
    "#blobs_fname = 'ex1-SSBlobs-me6_J5_rs500_nmi4000_nma20000_a0.010_trp0.50.p'\n",
    "blobs_fname = 'ex1-SSBlobs-me7_J5_rs500_nmi2000_nma10000_a0.010_trp0.50.p'\n",
    "blobs_results = load_plot(blobs_fname, True)\n",
    "plt.legend(bbox_to_anchor=(1.68, 1.07))\n",
    "plt.savefig(blobs_fname.replace('.p', '.pdf', 1))"
   ]
  },
  {
   "cell_type": "code",
   "execution_count": null,
   "metadata": {
    "collapsed": false,
    "scrolled": true
   },
   "outputs": [],
   "source": [
    "# H1 true. Gaussian mean diff. \n",
    "gmd_fname = 'ex1-gmd_d100-me7_J5_rs500_nmi2000_nma10000_a0.010_trp0.50.p'\n",
    "#gmd_fname = 'ex1-gmd_d100-me6_J5_rs500_nmi2000_nma10000_a0.010_trp0.50.p'\n",
    "gmd_results = load_plot(gmd_fname, True, False)\n",
    "#plt.legend()\n",
    "\n",
    "plt.savefig(gmd_fname.replace('.p', '.pdf', 1))\n"
   ]
  },
  {
   "cell_type": "code",
   "execution_count": null,
   "metadata": {
    "collapsed": false,
    "scrolled": true
   },
   "outputs": [],
   "source": [
    "# H1 true. Gaussian variance diff. \n",
    "#gvd20_fname = 'ex1-gvd_d10-me6_J5_rs500_nmi4000_nma20000_a0.010_trp0.50.p'\n",
    "gvd_fname = 'ex1-gvd_d50-me7_J5_rs500_nmi2000_nma10000_a0.010_trp0.50.p'\n",
    "gvd_results = load_plot(gvd_fname, True, False)\n",
    "plt.savefig(gvd_fname.replace('.p', '.pdf', 1))"
   ]
  },
  {
   "cell_type": "code",
   "execution_count": null,
   "metadata": {
    "collapsed": true
   },
   "outputs": [],
   "source": []
  },
  {
   "cell_type": "code",
   "execution_count": null,
   "metadata": {
    "collapsed": true
   },
   "outputs": [],
   "source": []
  }
 ],
 "metadata": {
  "kernelspec": {
   "display_name": "Python 2",
   "language": "python",
   "name": "python2"
  },
  "language_info": {
   "codemirror_mode": {
    "name": "ipython",
    "version": 2
   },
   "file_extension": ".py",
   "mimetype": "text/x-python",
   "name": "python",
   "nbconvert_exporter": "python",
   "pygments_lexer": "ipython2",
   "version": "2.7.11"
  }
 },
 "nbformat": 4,
 "nbformat_minor": 0
}
