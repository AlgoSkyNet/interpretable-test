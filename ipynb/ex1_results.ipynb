{
 "cells": [
  {
   "cell_type": "code",
   "execution_count": null,
   "metadata": {
    "collapsed": false
   },
   "outputs": [],
   "source": [
    "%load_ext autoreload\n",
    "%autoreload 2\n",
    "%matplotlib inline\n",
    "import freqopttest.util as util\n",
    "import freqopttest.data as data\n",
    "import freqopttest.kernel as kernel\n",
    "import freqopttest.tst as tst\n",
    "import freqopttest.glo as glo\n",
    "import matplotlib.pyplot as plt\n",
    "import numpy as np\n",
    "import scipy.stats as stats\n",
    "import sys"
   ]
  },
  {
   "cell_type": "markdown",
   "metadata": {},
   "source": [
    "## Process ex1 results (test power vs n)"
   ]
  },
  {
   "cell_type": "code",
   "execution_count": null,
   "metadata": {
    "collapsed": false,
    "scrolled": true
   },
   "outputs": [],
   "source": [
    "import freqopttest.ex.ex1_power_vs_n as ex1\n",
    "import freqopttest.glo as glo\n",
    "\n",
    "\n",
    "#fname = 'ex1-gmd_d20-me5_J5_rs500_nmi4000_nma20000_a0.010_trp0.50.p'\n",
    "\n",
    "#fname = 'ex1-gvd_d10-me5_J5_rs500_nmi4000_nma20000_a0.010_trp0.50.p'\n",
    "\n",
    "#fname = 'ex1-SSBlobs-me5_J5_rs500_nmi4000_nma20000_a0.010_trp0.50.p'\n",
    "\n",
    "#fname = 'ex1-sg_d5-me5_J5_rs500_nmi4000_nma20000_a0.010_trp0.50.p'\n",
    "fname = 'ex1-sg_d5-me5_J5_rs1000_nmi4000_nma20000_a0.010_trp0.50.p'\n",
    "results = glo.ex_load_result(1, fname)"
   ]
  },
  {
   "cell_type": "code",
   "execution_count": null,
   "metadata": {
    "collapsed": false
   },
   "outputs": [],
   "source": [
    "f_pval = lambda cell: cell['h0_rejected']\n",
    "vf_pval = np.vectorize(f_pval)\n",
    "pvals = vf_pval(results['test_results'])\n",
    "repeats, _, n_methods = results['test_results'].shape\n",
    "mean_pvals = np.mean(pvals, axis=0)\n",
    "#std_pvals = np.std(pvals, axis=0)\n",
    "#std_pvals = np.sqrt(mean_pvals*(1.0-mean_pvals))\n",
    "ns = np.array(results['sample_sizes'])\n",
    "te_proportion = 1.0 - results['tr_proportion']\n",
    "test_sizes = ns*te_proportion\n",
    "for i in range(n_methods):    \n",
    "    te_proportion = 1.0 - results['tr_proportion']\n",
    "    #plt.errorbar(ns*te_proportion, mean_pvals[:, i], std_pvals[:, i])\n",
    "    plt.plot(test_sizes, mean_pvals[:, i], 'o-')\n",
    "    \n",
    "plt.ylabel('P(stat > threshold)')\n",
    "plt.xlabel('test sample size')\n",
    "plt.xticks(test_sizes)\n",
    "plt.legend(['ME-opt', 'ME-gw-opt',  \n",
    "            'SCF-opt', 'SCF-gw-opt', '$T^2$'], \n",
    "           loc='best')\n",
    "alpha = results['alpha']\n",
    "plt.title('%s. %d trials. $\\\\alpha$ = %.3f.'%( results['prob_label'], repeats, \n",
    "                                        alpha) )\n",
    "#plt.grid()"
   ]
  },
  {
   "cell_type": "code",
   "execution_count": null,
   "metadata": {
    "collapsed": false
   },
   "outputs": [],
   "source": [
    "results.keys()"
   ]
  },
  {
   "cell_type": "code",
   "execution_count": null,
   "metadata": {
    "collapsed": false
   },
   "outputs": [],
   "source": [
    "results['method_job_funcs']"
   ]
  },
  {
   "cell_type": "code",
   "execution_count": null,
   "metadata": {
    "collapsed": true
   },
   "outputs": [],
   "source": []
  },
  {
   "cell_type": "code",
   "execution_count": null,
   "metadata": {
    "collapsed": true
   },
   "outputs": [],
   "source": []
  }
 ],
 "metadata": {
  "kernelspec": {
   "display_name": "Python 2",
   "language": "python",
   "name": "python2"
  },
  "language_info": {
   "codemirror_mode": {
    "name": "ipython",
    "version": 2
   },
   "file_extension": ".py",
   "mimetype": "text/x-python",
   "name": "python",
   "nbconvert_exporter": "python",
   "pygments_lexer": "ipython2",
   "version": "2.7.10"
  }
 },
 "nbformat": 4,
 "nbformat_minor": 0
}
