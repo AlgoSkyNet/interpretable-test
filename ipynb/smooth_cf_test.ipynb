{
 "cells": [
  {
   "cell_type": "code",
   "execution_count": null,
   "metadata": {
    "collapsed": false
   },
   "outputs": [],
   "source": [
    "%load_ext autoreload\n",
    "%autoreload 2\n",
    "%matplotlib inline\n",
    "import numpy as np\n",
    "import matplotlib.pyplot as plt\n",
    "import freqopttest.util as util\n",
    "import freqopttest.data as data\n",
    "import freqopttest.kernel as kernel\n",
    "import freqopttest.tst as tst\n",
    "import freqopttest.glo as glo\n",
    "import sys"
   ]
  },
  {
   "cell_type": "code",
   "execution_count": null,
   "metadata": {
    "collapsed": false
   },
   "outputs": [],
   "source": [
    "# sample source \n",
    "m = 500\n",
    "dim = 2\n",
    "n = m\n",
    "#ss = data.SSGaussMeanDiff(dim, my=0.2)\n",
    "ss = data.SSGaussVarDiff(dim)\n",
    "#ss = data.SSBlobs()\n",
    "tst_data = ss.sample(m, seed=2)\n",
    "tr, te = tst_data.split_tr_te(tr_proportion=0.5, seed=10)\n",
    "#te = tst_data"
   ]
  },
  {
   "cell_type": "markdown",
   "metadata": {},
   "source": [
    "## smooth CF test"
   ]
  },
  {
   "cell_type": "code",
   "execution_count": null,
   "metadata": {
    "collapsed": false
   },
   "outputs": [],
   "source": [
    "J = 7\n",
    "alpha = 0.01\n",
    "smooth_cf = tst.SmoothCFTest.create_randn(te, J, alpha=alpha, seed=2)\n",
    "smooth_cf.perform_test(te)"
   ]
  },
  {
   "cell_type": "markdown",
   "metadata": {
    "collapsed": true
   },
   "source": [
    "## optimize test frequencies"
   ]
  },
  {
   "cell_type": "code",
   "execution_count": null,
   "metadata": {
    "collapsed": false
   },
   "outputs": [],
   "source": [
    "op = {'n_test_freqs': J, 'seed': 49, 'max_iter': 300, \n",
    "     'batch_proportion': 1.0, 'freqs_step_size': 0.1, \n",
    "      'gwidth_step_size': 0.01, 'tol_fun': 1e-4}\n",
    "# optimize on the training set\n",
    "test_freqs, gwidth, info = tst.SmoothCFTest.optimize_freqs_width(tr, **op)\n",
    "scf_opt = tst.SmoothCFTest(test_freqs, gwidth, alpha=alpha)\n",
    "scf_opt_test = scf_opt.perform_test(te)\n",
    "scf_opt_test"
   ]
  },
  {
   "cell_type": "code",
   "execution_count": null,
   "metadata": {
    "collapsed": false
   },
   "outputs": [],
   "source": [
    "# plot optimization results\n",
    "\n",
    "# trajectories of the Gaussian width\n",
    "gwidths = info['gwidths']\n",
    "fig, axs = plt.subplots(2, 2, figsize=(10, 9))\n",
    "axs[0, 0].plot(gwidths)\n",
    "axs[0, 0].set_xlabel('iteration')\n",
    "axs[0, 0].set_ylabel('Gaussian width')\n",
    "axs[0, 0].set_title('Gaussian width evolution')\n",
    "\n",
    "# evolution of objective values\n",
    "objs = info['obj_values']\n",
    "axs[0, 1].plot(objs)\n",
    "axs[0, 1].set_title('Objective $\\lambda(T)$')\n",
    "\n",
    "# trajectories of the test locations\n",
    "# iters x J. X Coordinates of all test locations\n",
    "locs = info['test_freqs']\n",
    "for coord in [0, 1]:\n",
    "    locs_d0 = locs[:, :, coord]\n",
    "    J = locs_d0.shape[1]\n",
    "    axs[1, coord].plot(locs_d0)\n",
    "    axs[1, coord].set_xlabel('iteration')\n",
    "    axs[1, coord].set_ylabel('index %d of test_locs'%(coord))\n",
    "    axs[1, coord].set_title('evolution of %d test locations'%J)\n",
    "\n",
    "print('optimized width: %.3f'%gwidth)"
   ]
  },
  {
   "cell_type": "markdown",
   "metadata": {},
   "source": [
    "## SCF: optimize just the Gaussian width"
   ]
  },
  {
   "cell_type": "code",
   "execution_count": null,
   "metadata": {
    "collapsed": false
   },
   "outputs": [],
   "source": [
    "op_gwidth = {'max_iter': 300,'gwidth_step_size': 0.1,  \n",
    "             'batch_proportion': 1.0, 'tol_fun': 1e-4}\n",
    "# optimize on the training set\n",
    "rand_state = np.random.get_state()\n",
    "np.random.seed(seed=12)\n",
    "T0_randn = np.random.randn(J, dim)\n",
    "np.random.set_state(rand_state)\n",
    "\n",
    "gwidth, info = tst.SmoothCFTest.optimize_gwidth(tr, T0_randn, **op_gwidth)"
   ]
  },
  {
   "cell_type": "code",
   "execution_count": null,
   "metadata": {
    "collapsed": false
   },
   "outputs": [],
   "source": [
    "# trajectories of the Gaussian width\n",
    "gwidths = info['gwidths']\n",
    "fig, axs = plt.subplots(1, 2, figsize=(10, 4))\n",
    "axs[0].plot(gwidths)\n",
    "axs[0].set_xlabel('iteration')\n",
    "axs[0].set_ylabel('Gaussian width')\n",
    "axs[0].set_title('Gaussian width evolution')\n",
    "\n",
    "# evolution of objective values\n",
    "objs = info['obj_values']\n",
    "axs[1].plot(objs)\n",
    "axs[1].set_title('Objective $\\lambda(T)$')\n"
   ]
  },
  {
   "cell_type": "code",
   "execution_count": null,
   "metadata": {
    "collapsed": true
   },
   "outputs": [],
   "source": []
  }
 ],
 "metadata": {
  "kernelspec": {
   "display_name": "Python 2",
   "language": "python",
   "name": "python2"
  },
  "language_info": {
   "codemirror_mode": {
    "name": "ipython",
    "version": 2
   },
   "file_extension": ".py",
   "mimetype": "text/x-python",
   "name": "python",
   "nbconvert_exporter": "python",
   "pygments_lexer": "ipython2",
   "version": "2.7.10"
  }
 },
 "nbformat": 4,
 "nbformat_minor": 0
}
