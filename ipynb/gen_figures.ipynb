{
 "cells": [
  {
   "cell_type": "markdown",
   "metadata": {},
   "source": [
    "This notebook contains code used to generate figures that are not from experimental results. \n",
    "These figures are used in, for instance, the paper and presentation slides."
   ]
  },
  {
   "cell_type": "code",
   "execution_count": null,
   "metadata": {
    "collapsed": false
   },
   "outputs": [],
   "source": [
    "%load_ext autoreload\n",
    "%autoreload 2\n",
    "%matplotlib inline\n",
    "#%config InlineBackend.figure_format = 'svg'\n",
    "#%config InlineBackend.figure_format = 'pdf'\n",
    "import freqopttest.util as util\n",
    "import freqopttest.data as data\n",
    "import freqopttest.ex.exglobal as exglo\n",
    "import freqopttest.kernel as kernel\n",
    "import freqopttest.tst as tst\n",
    "import freqopttest.glo as glo\n",
    "import freqopttest.plot as plot\n",
    "import matplotlib.pyplot as plt\n",
    "import numpy as np\n",
    "import scipy.stats as stats\n",
    "import sys"
   ]
  },
  {
   "cell_type": "markdown",
   "metadata": {},
   "source": [
    "## Plot blobs dataset"
   ]
  },
  {
   "cell_type": "code",
   "execution_count": null,
   "metadata": {
    "collapsed": false
   },
   "outputs": [],
   "source": [
    "# font options\n",
    "font = {\n",
    "    #'family' : 'normal',\n",
    "    #'weight' : 'bold',\n",
    "    'size'   : 14\n",
    "}\n",
    "\n",
    "plt.rc('font', **font)\n",
    "plt.rc('lines', linewidth=2)"
   ]
  },
  {
   "cell_type": "code",
   "execution_count": null,
   "metadata": {
    "collapsed": false
   },
   "outputs": [],
   "source": [
    "ss = data.SSBlobs()\n",
    "sam = ss.sample(n=2000, seed=2)\n",
    "bx, by = sam.xy()\n",
    "\n",
    "plt.figure()\n",
    "plt.plot(by[:, 0], by[:, 1], 'ob', markersize=3, markeredgecolor='b')\n",
    "plt.xlim([-12, 12])\n",
    "plt.ylim([-10, 10])\n",
    "plt.title('Blobs data. Sample from P.')\n",
    "plt.savefig('blobs_p.pdf')\n",
    "\n",
    "plt.figure()\n",
    "plt.plot(bx[:, 0], bx[:, 1], 'or', markersize=3, markeredgecolor='r')\n",
    "plt.xlim([-12, 12])\n",
    "plt.ylim([-10, 10])\n",
    "plt.title('Blobs data. Sample from Q.')\n",
    "plt.savefig('blobs_q.pdf')"
   ]
  },
  {
   "cell_type": "markdown",
   "metadata": {},
   "source": [
    "## $H_0/H_1$ distributions"
   ]
  },
  {
   "cell_type": "code",
   "execution_count": null,
   "metadata": {
    "collapsed": false
   },
   "outputs": [],
   "source": [
    "J = 20\n",
    "alpha = 0.07\n",
    "\n",
    "# plot the null distribution\n",
    "h0_xmin = stats.chi2.ppf(0.001, J)\n",
    "h0_xmax = stats.chi2.ppf(0.999, J)\n",
    "domain = np.linspace(h0_xmin, h0_xmax, 400)\n",
    "plt.plot(domain, stats.chi2.pdf(domain, J), 'b-', label='$\\mathbb{P}_{H_0}(\\hat{\\lambda}_n)$')\n",
    "\n",
    "\n",
    "# plot H1 distribution. Say a noncentral Chi2\n",
    "# noncentrality parameter\n",
    "nc = 30\n",
    "\n",
    "h1_dom = np.linspace(stats.ncx2.ppf(0.001, J, nc), stats.ncx2.ppf(0.99, J, nc), 200)\n",
    "#plt.plot(h1_dom, stats.ncx2.pdf(h1_dom, J, nc), 'r-', label='$P_{H_1}(\\hat{\\lambda}_n)$')\n",
    "\n",
    "# rejection threshold\n",
    "thresh = stats.chi2.isf(alpha, J)\n",
    "plt.plot([thresh, thresh], [0, stats.chi2.pdf(J, J)/2], '*g-', label='$T_\\\\alpha$', linewidth=2)\n",
    "\n",
    "# actual test statistic\n",
    "stat = 36\n",
    "plt.plot([stat, stat], [0, stats.chi2.pdf(J, J)/3], \n",
    "         '*m-', label='$\\hat{\\lambda}_n$', linewidth=2)\n",
    "\n",
    "# p-value\n",
    "pval_x = np.linspace(stat, h0_xmax, 400)\n",
    "pval_y = stats.chi2.pdf(pval_x, J)\n",
    "plt.fill_between(pval_x, np.zeros(len(pval_x)), pval_y, color='gray', alpha='0.5', label='a')\n",
    "\n",
    "p1 = plt.Rectangle((0, 0), 1, 1, fc='gray')\n",
    "shade_leg = plt.legend([p1], ['p-val.'], loc='upper right', \n",
    "                       bbox_to_anchor=(0.96, 0.53), frameon=False)\n",
    "plt.gca().add_artist(shade_leg)\n",
    "plt.legend(loc='best', frameon=False)\n",
    "plt.gca().get_yaxis().set_visible(False)\n",
    "plt.xlabel('$\\hat{\\lambda}_n$')\n",
    "plt.savefig('h0_demo.pdf')\n",
    "\n"
   ]
  },
  {
   "cell_type": "markdown",
   "metadata": {
    "collapsed": true
   },
   "source": [
    "## Test power highllight\n"
   ]
  },
  {
   "cell_type": "code",
   "execution_count": null,
   "metadata": {
    "collapsed": false
   },
   "outputs": [],
   "source": [
    "plt.plot(domain, stats.chi2.pdf(domain, J), 'b-', label='$\\mathbb{P}_{H_0}(\\hat{\\lambda}_n)$')\n",
    "plt.plot(h1_dom, stats.ncx2.pdf(h1_dom, J, nc), 'r-', label='$\\mathbb{P}_{H_1}(\\hat{\\lambda}_n)$')\n",
    "plt.plot([thresh, thresh], [0, stats.chi2.pdf(J, J)/2], '*g-', label='$T_\\\\alpha$', linewidth=2)\n",
    "#plt.stem([stat], [stats.chi2.pdf(J, J)/3], 'om-', label='$\\hat{\\lambda}$')\n",
    "# test power \n",
    "pow_x = np.linspace(thresh, max(h1_dom), 400)\n",
    "pow_y = stats.ncx2.pdf(pow_x, J, nc)\n",
    "plt.fill_between(pow_x, np.zeros(len(pow_x)), pow_y, color='magenta', alpha=0.2)\n",
    "\n",
    "p2 = plt.Rectangle((0, 0), 1, 1, fc='magenta', alpha=0.2)\n",
    "shade_pow = plt.legend([p2], ['power'], loc='upper right',\n",
    "                       bbox_to_anchor=(0.97, 0.53), frameon=False)\n",
    "plt.gca().add_artist(shade_pow)\n",
    "plt.legend(loc='best', frameon=False)\n",
    "plt.gca().get_yaxis().set_visible(False)\n",
    "plt.xlabel('$\\hat{\\lambda}_n$')\n",
    "plt.savefig('test_power_demo.pdf')"
   ]
  },
  {
   "cell_type": "markdown",
   "metadata": {},
   "source": [
    "## Type-1 error"
   ]
  },
  {
   "cell_type": "code",
   "execution_count": null,
   "metadata": {
    "collapsed": false
   },
   "outputs": [],
   "source": [
    "plt.plot(domain, stats.chi2.pdf(domain, J), 'b-', label='$\\mathbb{P}_{H_0}(\\hat{\\lambda}_n)$')\n",
    "plt.plot(h1_dom, stats.ncx2.pdf(h1_dom, J, nc), 'r-', label='$\\mathbb{P}_{H_1}(\\hat{\\lambda}_n)$')\n",
    "plt.plot([thresh, thresh], [0, stats.chi2.pdf(J, J)/2], '*g-', label='$T_\\\\alpha$', linewidth=2)\n",
    "#plt.stem([stat], [stats.chi2.pdf(J, J)/3], 'om-', label='$\\hat{\\lambda}$')\n",
    "# type-1 error\n",
    "t1_x = np.linspace(thresh, max(domain), 400)\n",
    "t1_y = stats.chi2.pdf(t1_x, J)\n",
    "plt.fill_between(t1_x, np.zeros(len(t1_x)), t1_y, color='brown', alpha=0.4)\n",
    "\n",
    "p2 = plt.Rectangle((0, 0), 1, 1, fc='brown', alpha=0.4)\n",
    "shade_pow = plt.legend([p2], ['type-I'], loc='upper right', \n",
    "                       bbox_to_anchor=(0.96, 0.53), frameon=False)\n",
    "plt.gca().add_artist(shade_pow)\n",
    "plt.legend(loc='best', frameon=False)\n",
    "plt.gca().get_yaxis().set_visible(False)\n",
    "plt.xlabel('$\\hat{\\lambda}_n$')\n",
    "plt.savefig('type1_error_demo.pdf')"
   ]
  },
  {
   "cell_type": "markdown",
   "metadata": {},
   "source": [
    "## Noncentral chi-square / power"
   ]
  },
  {
   "cell_type": "code",
   "execution_count": null,
   "metadata": {
    "collapsed": false
   },
   "outputs": [],
   "source": [
    "J = 5\n",
    "dom = np.linspace(1e-5, 95, 500)\n",
    "thresh = 27\n",
    "ncs = [10, 30, 50]\n",
    "pow_colors = ['blue', 'green', 'red']\n",
    "for i, nc in enumerate(ncs):\n",
    "    plt.plot(dom, stats.ncx2.pdf(dom, J, nc), label='$\\chi^2(J, \\, %.2g)$'%( nc),\n",
    "            linewidth=2)\n",
    "    # plot the test powers\n",
    "    pow_dom = np.linspace(thresh, max(dom), 500)\n",
    "    plt.fill_between(pow_dom, np.zeros(len(dom)), \n",
    "                     stats.ncx2.pdf(pow_dom, J, nc), color=pow_colors[i], alpha=0.2)\n",
    "    \n",
    "    \n",
    "plt.plot([thresh, thresh], [0, stats.ncx2.pdf(ncs[0]+J, J, ncs[0])/3], \n",
    "         '*m-', label='$T_\\\\alpha$')\n",
    "plt.legend(loc='best', frameon=False)\n",
    "plt.title('$J = %d$'%J)\n",
    "plt.savefig('ncx2_pow_inc.pdf')"
   ]
  },
  {
   "cell_type": "markdown",
   "metadata": {
    "collapsed": true
   },
   "source": [
    "## Visualize mean embeddings "
   ]
  },
  {
   "cell_type": "code",
   "execution_count": null,
   "metadata": {
    "collapsed": false
   },
   "outputs": [],
   "source": [
    "sigma2 = 1\n",
    "def kgauss_me(Xte, X):\n",
    "    \"\"\"Inputs are 2d arrays\"\"\"\n",
    "    kg = kernel.KGauss(sigma2=sigma2)\n",
    "    K_dom_x = kg.eval(Xte, X)\n",
    "    me_xte = np.mean(K_dom_x, 1)\n",
    "    return me_xte\n",
    "    \n",
    "X = np.array([[1, 2.5, 3, 4]]).T\n",
    "Y = np.array([[5, 6.2, 8]]).T\n",
    "xy = np.vstack((X, Y))\n",
    "\n",
    "dom = np.linspace(min(xy)-3*sigma2, max(xy)+3*sigma2, 300)\n",
    "dom_mat = dom[:, np.newaxis]\n",
    "\n",
    "me_x = kgauss_me(dom_mat, X)\n",
    "me_y = kgauss_me(dom_mat, Y)\n",
    "\n",
    "# plot mean embedding as a function\n",
    "\n",
    "# data X\n",
    "markersize = 9\n",
    "#plt.figure(figsize=(7, 5))\n",
    "plt.plot(X[:, 0], np.zeros(X.shape[0]) + 5e-3, 'ob', \n",
    "         markersize=markersize\n",
    "        # , label='$\\mathsf{X}$'\n",
    "        )\n",
    "# mu_x \n",
    "plt.plot(dom, me_x, 'b-', label='$\\hat{\\mu}_P(t)$')\n",
    "\n",
    "# data Y\n",
    "plt.plot(Y[:, 0], np.zeros(Y.shape[0]) + 5e-3, 'or', \n",
    "         markersize=markersize\n",
    "        # , label='$\\mathsf{Y}$'\n",
    "        )\n",
    "# mu_y\n",
    "plt.plot(dom, me_y, 'r-', label='$\\hat{\\mu}_Q(t)$')\n",
    "\n",
    "self_me_x = kgauss_me(X, X)\n",
    "for i in range(X.shape[0]):\n",
    "    plt.plot([X[i, 0], X[i, 0]], [0, self_me_x[i]], '--', color='blue', alpha=0.4)\n",
    "self_me_y = kgauss_me(Y, Y)\n",
    "for i in range(Y.shape[0]):\n",
    "    plt.plot([Y[i, 0], Y[i, 0]], [0, self_me_y[i]], '--', color='red', alpha=0.4)\n",
    "    \n",
    "plt.xlabel('$t$')\n",
    "plt.title('$\\mathsf{X}$ = blue points. $\\mathsf{Y}$ = red points.')\n",
    "plt.legend(loc='best')\n",
    "plt.savefig('mean_embeddings.pdf')"
   ]
  },
  {
   "cell_type": "markdown",
   "metadata": {},
   "source": [
    "## ME test: interactive test locations"
   ]
  },
  {
   "cell_type": "code",
   "execution_count": null,
   "metadata": {
    "collapsed": true
   },
   "outputs": [],
   "source": [
    "alpha = 0.01"
   ]
  },
  {
   "cell_type": "code",
   "execution_count": null,
   "metadata": {
    "collapsed": false
   },
   "outputs": [],
   "source": [
    "def t2_stat(X, Y, locs, gamma):\n",
    "    \"\"\"\n",
    "    locs: J x d\n",
    "    \"\"\"\n",
    "    tst_data = data.TSTData(X, Y)\n",
    "    me = tst.MeanEmbeddingTest(locs, gamma, alpha=alpha)\n",
    "    result = me.perform_test(tst_data)\n",
    "    return result['test_stat']\n",
    "\n",
    "\n",
    "    \n",
    "# locations to test\n",
    "ss = data.SSGaussMeanDiff(d=2, my=1.0)\n",
    "#ss = data.SSGaussVarDiff(d=2)\n",
    "#ss = data.SSBlobs()\n",
    "n = 400\n",
    "tst_data = ss.sample(n=n, seed=6)\n",
    "#locs = tst.MeanEmbeddingTest.init_locs_2randn(tst_data, n_test_locs=2, seed=39)\n",
    "\n",
    "X, Y = tst_data.xy()\n"
   ]
  },
  {
   "cell_type": "code",
   "execution_count": null,
   "metadata": {
    "collapsed": true
   },
   "outputs": [],
   "source": [
    "from mpl_toolkits.mplot3d import axes3d\n",
    "from matplotlib import cm\n",
    "\n",
    "def best_loc2_testpower(X, Y, gamma, loc1):\n",
    "    \"\"\"Show a heatmap of Lambda(T) on many locations of the test points. \n",
    "    J=2 (two locations). Assume loc1 is given. Vary loc2 (2d). \"\"\"\n",
    "    \n",
    "    # For simplicity, we will assume that J=2 (two frequencies) \n",
    "    # and that one (loc1) is fixed. We will optimize loc2 (2-dimensional).\n",
    "    XY = np.vstack((X,Y))\n",
    "    max1, max2 = np.max(XY, 0)\n",
    "    min1, min2 = np.min(XY, 0)\n",
    "    #sd1, sd2 = np.std(XY, 0)\n",
    "    sd1, sd2 = (0, 0)\n",
    "    # form a frequency grid to try \n",
    "    nd1 = 30\n",
    "    nd2 = 30\n",
    "    loc1_cands = np.linspace(min1-sd1/2, max1+sd1/2, nd1)\n",
    "    loc2_cands = np.linspace(min2-sd2/2, max2+sd2/2, nd2)\n",
    "    lloc1, lloc2 = np.meshgrid(loc1_cands, loc2_cands)\n",
    "    # nd2 x nd1 x 2\n",
    "    loc3d = np.dstack((lloc1, lloc2))\n",
    "    # #candidates x 2\n",
    "    all_loc2s = np.reshape(loc3d, (-1, 2) )\n",
    "    \n",
    "    # all_locs = #candidates x J x 2\n",
    "    all_locs = np.array( [np.vstack((c, loc1)) for c in all_loc2s] )\n",
    "\n",
    "    # evaluate Lambda(T) on each candidate T on the grid. Size = (#candidates, )\n",
    "    stat_grid = np.array([t2_stat(X, Y, T, gamma) for T in all_locs])\n",
    "    stat_grid = np.reshape(stat_grid, (nd2, nd1) )\n",
    "    \n",
    "    #ax = fig.gca(projection='3d')\n",
    "    #ax.plot_surface(lloc1, lloc2, stat_grid, rstride=8, cstride=8, alpha=0.3)\n",
    "    #cset = ax.contourf(lloc1, lloc2, stat_grid, zdir='z', offset=0, cmap=cm.coolwarm)\n",
    "    plt.figure(figsize=(10, 6))\n",
    "    plt.contourf(lloc1, lloc2, stat_grid, alpha=0.3)\n",
    "    plt.colorbar()\n",
    "\n",
    "    max_stat = np.max(stat_grid)\n",
    "    #plt.xlabel('')\n",
    "    #plt.ylabel('')\n",
    "    plt.title('Fixed $t_1$. Plot $t_2 \\mapsto \\hat{\\lambda}_n(t_1, t_2)$')\n",
    "    #ax.view_init(elev=max_stat*2, azim=90)\n",
    "\n",
    "    loc1x, loc1y = loc1\n",
    "    # plot the data\n",
    "    #plt.figure(figsize=(12, 4))\n",
    "    plt.plot(X[:, 0], X[:, 1], 'ob', label='$\\mathsf{X}$', \n",
    "             markeredgecolor='b', markersize=5, alpha=0.9)\n",
    "    plt.plot(Y[:, 0], Y[:, 1], 'or', label='$\\mathsf{Y}$', \n",
    "             markeredgecolor='r', markersize=5, alpha=0.9)\n",
    "    plt.plot(loc1x, loc1y, '^k', markersize=20, label='$t_1$')\n",
    "    plt.legend()\n",
    "    #plt.savefig('lambda_t2_surface.pdf')\n"
   ]
  },
  {
   "cell_type": "code",
   "execution_count": null,
   "metadata": {
    "collapsed": false
   },
   "outputs": [],
   "source": [
    "from __future__ import print_function\n",
    "from ipywidgets import interact, interactive, fixed\n",
    "from IPython.display import display\n",
    "import ipywidgets as widgets\n",
    "\n",
    "# interactively select test locations\n",
    "def me_test_plot_interact(X, Y, loc1x=0, loc1y=0, gamma=1):\n",
    "    #locs = np.array([[loc1x, loc1y], [loc2x, loc2y]])\n",
    "    \n",
    "    # compute the test statistic\n",
    "    loc1 = np.array([loc1x, loc1y])\n",
    "    best_loc2_testpower(X, Y, gamma, loc1)\n",
    "\n",
    "loc1_bnd = (-5, 5, 0.2)\n",
    "vs = interactive(me_test_plot_interact, X=fixed(X), Y=fixed(Y), loc1x=loc1_bnd, \n",
    "        loc1y=loc1_bnd, gamma=(0.1, 10, 0.2));\n",
    "display(vs)"
   ]
  },
  {
   "cell_type": "code",
   "execution_count": null,
   "metadata": {
    "collapsed": true
   },
   "outputs": [],
   "source": []
  },
  {
   "cell_type": "code",
   "execution_count": null,
   "metadata": {
    "collapsed": true
   },
   "outputs": [],
   "source": []
  }
 ],
 "metadata": {
  "kernelspec": {
   "display_name": "Python 2",
   "language": "python",
   "name": "python2"
  },
  "language_info": {
   "codemirror_mode": {
    "name": "ipython",
    "version": 2
   },
   "file_extension": ".py",
   "mimetype": "text/x-python",
   "name": "python",
   "nbconvert_exporter": "python",
   "pygments_lexer": "ipython2",
   "version": "2.7.10"
  }
 },
 "nbformat": 4,
 "nbformat_minor": 0
}
