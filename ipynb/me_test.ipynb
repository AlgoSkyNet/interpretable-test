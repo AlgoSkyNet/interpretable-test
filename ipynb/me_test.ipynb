{
 "cells": [
  {
   "cell_type": "code",
   "execution_count": null,
   "metadata": {
    "collapsed": false
   },
   "outputs": [],
   "source": [
    "%load_ext autoreload\n",
    "%autoreload 2\n",
    "%matplotlib inline\n",
    "import numpy as np\n",
    "import matplotlib.pyplot as plt\n",
    "import freqopttest.util as util\n",
    "import freqopttest.data as data\n",
    "import freqopttest.kernel as kernel\n",
    "import freqopttest.tst as tst\n",
    "import freqopttest.glo as glo\n",
    "import sys"
   ]
  },
  {
   "cell_type": "code",
   "execution_count": null,
   "metadata": {
    "collapsed": true
   },
   "outputs": [],
   "source": [
    "# sample source \n",
    "m = 500\n",
    "dim = 2\n",
    "n = m\n",
    "ss = data.SSGaussMeanDiff(dim, my=1)\n",
    "#ss = data.SSGaussVarDiff(dim)\n",
    "#ss = data.SSBlobs()\n",
    "tst_data = ss.sample(m, seed=2)\n",
    "tr, te = tst_data.split_tr_te(tr_proportion=0.5, seed=10)\n",
    "#te = tst_data"
   ]
  },
  {
   "cell_type": "markdown",
   "metadata": {},
   "source": [
    "## mean embedding test"
   ]
  },
  {
   "cell_type": "code",
   "execution_count": null,
   "metadata": {
    "collapsed": false
   },
   "outputs": [],
   "source": [
    "J = 5\n",
    "alpha = 0.01\n",
    "met  = tst.MeanEmbeddingTest.create_fit_gauss_heuristic(te, J, alpha, seed=2)\n",
    "met.perform_test(te)"
   ]
  },
  {
   "cell_type": "markdown",
   "metadata": {},
   "source": [
    "## redundant test locations"
   ]
  },
  {
   "cell_type": "code",
   "execution_count": null,
   "metadata": {
    "collapsed": false
   },
   "outputs": [],
   "source": [
    "# change the test locations to be redundant\n",
    "t0 = met.test_locs[0, :]\n",
    "met.test_locs[1, :] = t0 + 1e-6\n",
    "met.test_locs[2, :] = t0 + 1e-5\n",
    "met.test_locs[3, :] = t0 + 2e-6\n",
    "met.test_locs[4, :] = t0 + 3e-6\n",
    "met.test_locs"
   ]
  },
  {
   "cell_type": "code",
   "execution_count": null,
   "metadata": {
    "collapsed": false
   },
   "outputs": [],
   "source": [
    "met.perform_test(te)"
   ]
  },
  {
   "cell_type": "code",
   "execution_count": null,
   "metadata": {
    "collapsed": true
   },
   "outputs": [],
   "source": []
  },
  {
   "cell_type": "code",
   "execution_count": null,
   "metadata": {
    "collapsed": true
   },
   "outputs": [],
   "source": []
  }
 ],
 "metadata": {
  "kernelspec": {
   "display_name": "Python 2",
   "language": "python",
   "name": "python2"
  },
  "language_info": {
   "codemirror_mode": {
    "name": "ipython",
    "version": 2
   },
   "file_extension": ".py",
   "mimetype": "text/x-python",
   "name": "python",
   "nbconvert_exporter": "python",
   "pygments_lexer": "ipython2",
   "version": "2.7.10"
  }
 },
 "nbformat": 4,
 "nbformat_minor": 0
}
