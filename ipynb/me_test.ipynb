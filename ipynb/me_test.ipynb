{
 "cells": [
  {
   "cell_type": "code",
   "execution_count": null,
   "metadata": {
    "collapsed": false
   },
   "outputs": [],
   "source": [
    "%load_ext autoreload\n",
    "%autoreload 2\n",
    "%matplotlib inline\n",
    "import numpy as np\n",
    "import matplotlib.pyplot as plt\n",
    "import freqopttest.util as util\n",
    "import freqopttest.data as data\n",
    "import freqopttest.kernel as kernel\n",
    "import freqopttest.tst as tst\n",
    "import freqopttest.glo as glo\n",
    "import sys"
   ]
  },
  {
   "cell_type": "code",
   "execution_count": null,
   "metadata": {
    "collapsed": true
   },
   "outputs": [],
   "source": [
    "# sample source \n",
    "m = 20000\n",
    "dim = 200\n",
    "seed = 8\n",
    "n = m\n",
    "ss = data.SSGaussMeanDiff(dim, my=0.5)\n",
    "#ss = data.SSGaussVarDiff(dim)\n",
    "#ss = data.SSSameGauss(dim)\n",
    "#ss = data.SSBlobs()\n",
    "dim = ss.dim()\n",
    "tst_data = ss.sample(m, seed=seed)\n",
    "tr, te = tst_data.split_tr_te(tr_proportion=0.5, seed=10)\n",
    "#te = tst_data"
   ]
  },
  {
   "cell_type": "markdown",
   "metadata": {
    "collapsed": true
   },
   "source": [
    "## grid search to choose the best Gaussian width"
   ]
  },
  {
   "cell_type": "code",
   "execution_count": null,
   "metadata": {
    "collapsed": true
   },
   "outputs": [],
   "source": [
    "J = 5\n",
    "alpha = 0.01\n",
    "\n",
    "T = tst.MeanEmbeddingTest.init_locs_2randn(tr, J, seed=seed+1)\n",
    "#T = np.random.randn(J, dim)"
   ]
  },
  {
   "cell_type": "code",
   "execution_count": null,
   "metadata": {
    "collapsed": false
   },
   "outputs": [],
   "source": [
    "#mean_sd = tr.mean_std()\n",
    "#print('mean_sd: %.3g'%mean_sd)\n",
    "#scales = 2.0**np.linspace(-3, 3, 20)\n",
    "#list_gwidth = np.hstack( (mean_sd*scales*(dim**0.5), 2**np.linspace(-20, 10, 20) ))\n",
    "\n",
    "med = util.meddistance(tr.stack_xy(), 1000)\n",
    "list_gwidth = np.hstack( ( (med**2) *(2.0**np.linspace(-5, 5, 40) ) ) )\n",
    "list_gwidth.sort()\n",
    "besti, powers = tst.MeanEmbeddingTest.grid_search_gwidth(tr, T, list_gwidth, alpha)\n",
    "\n",
    "# plot\n",
    "plt.plot(list_gwidth, powers, 'o-')\n",
    "plt.xscale('log', basex=2)\n",
    "plt.xlabel('Gaussian width')\n",
    "plt.ylabel('Test power')\n",
    "plt.title('Median dist: %.3g. Best gwidth2**0.5: %.3g'%(med, list_gwidth[besti]**0.5) )"
   ]
  },
  {
   "cell_type": "code",
   "execution_count": null,
   "metadata": {
    "collapsed": false
   },
   "outputs": [],
   "source": [
    "# test with the best Gaussian with \n",
    "best_width = list_gwidth[besti]\n",
    "met_grid = tst.MeanEmbeddingTest(T, best_width, alpha)\n",
    "met_grid.perform_test(te)"
   ]
  },
  {
   "cell_type": "code",
   "execution_count": null,
   "metadata": {
    "collapsed": true
   },
   "outputs": [],
   "source": []
  }
 ],
 "metadata": {
  "kernelspec": {
   "display_name": "Python 2",
   "language": "python",
   "name": "python2"
  },
  "language_info": {
   "codemirror_mode": {
    "name": "ipython",
    "version": 2
   },
   "file_extension": ".py",
   "mimetype": "text/x-python",
   "name": "python",
   "nbconvert_exporter": "python",
   "pygments_lexer": "ipython2",
   "version": "2.7.10"
  }
 },
 "nbformat": 4,
 "nbformat_minor": 0
}
