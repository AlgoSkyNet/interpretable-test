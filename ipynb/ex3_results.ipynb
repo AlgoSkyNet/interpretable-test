{
 "cells": [
  {
   "cell_type": "code",
   "execution_count": null,
   "metadata": {
    "collapsed": false
   },
   "outputs": [],
   "source": [
    "%load_ext autoreload\n",
    "%autoreload 2\n",
    "%matplotlib inline\n",
    "#%config InlineBackend.figure_format = 'svg'\n",
    "#%config InlineBackend.figure_format = 'pdf'\n",
    "import freqopttest.util as util\n",
    "import freqopttest.data as data\n",
    "import freqopttest.ex.exglobal as exglo\n",
    "import freqopttest.kernel as kernel\n",
    "import freqopttest.tst as tst\n",
    "import freqopttest.glo as glo\n",
    "import freqopttest.plot as plot\n",
    "import matplotlib.pyplot as plt\n",
    "import numpy as np\n",
    "import scipy.stats as stats\n",
    "import sys"
   ]
  },
  {
   "cell_type": "code",
   "execution_count": null,
   "metadata": {
    "collapsed": true
   },
   "outputs": [],
   "source": [
    "def load_plot_vs_J(fname, h1_true):\n",
    "    ex = 3\n",
    "    func_xvalues = lambda results: results['list_J']\n",
    "    results = plot.plot_prob_stat_above_thresh(ex, fname, h1_true, func_xvalues, '#test locations J')\n",
    "    return results\n"
   ]
  },
  {
   "cell_type": "code",
   "execution_count": null,
   "metadata": {
    "collapsed": false
   },
   "outputs": [],
   "source": [
    "# H0 true. Same Gauss. \n",
    "#sg_fname = 'ex3-sg_d50-me4_rs100_jmi5_jma25_a0.010_trp0.50.p'\n",
    "sg_fname = 'ex3-sg_d50-me4_rs200_jmi2_jma7_a0.010_trp0.50.p'\n",
    "sg_results = load_plot_vs_J(sg_fname, False)\n",
    "#plt.savefig('a.pdf')"
   ]
  },
  {
   "cell_type": "code",
   "execution_count": null,
   "metadata": {
    "collapsed": false,
    "scrolled": true
   },
   "outputs": [],
   "source": [
    "# H1 true. Blobs\n",
    "blobs_fname = 'ex3-SSBlobs-me4_rs200_jmi2_jma7_a0.010_trp0.50.p'\n",
    "blobs_results = load_plot_vs_J(blobs_fname, True)\n",
    "#plt.savefig('a.pdf')"
   ]
  },
  {
   "cell_type": "code",
   "execution_count": null,
   "metadata": {
    "collapsed": false
   },
   "outputs": [],
   "source": [
    "# H1 true. Gaussian mean diff\n",
    "#gmd_fname = 'ex3-gmd_d100-me4_rs100_jmi5_jma25_a0.010_trp0.50.p'\n",
    "gmd_fname = 'ex3-gmd_d100-me4_rs200_jmi2_jma7_a0.010_trp0.50.p'\n",
    "gmd_results = load_plot_vs_J(gmd_fname, True)\n",
    "#plt.savefig('a.pdf')"
   ]
  },
  {
   "cell_type": "code",
   "execution_count": null,
   "metadata": {
    "collapsed": false
   },
   "outputs": [],
   "source": [
    "# H1 true. Gaussian variance diff\n",
    "#gvd50_fname = 'ex3-gvd_d50-me4_rs100_jmi5_jma25_a0.010_trp0.50.p'\n",
    "gvd50_fname = 'ex3-gvd_d50-me4_rs200_jmi2_jma7_a0.010_trp0.50.p'\n",
    "gvd50_results = load_plot_vs_J(gvd50_fname, True)\n",
    "#plt.savefig('a.pdf')"
   ]
  },
  {
   "cell_type": "code",
   "execution_count": null,
   "metadata": {
    "collapsed": false
   },
   "outputs": [],
   "source": [
    "# H1 true. Gaussian variance diff\n",
    "#gvd100_fname = 'ex3-gvd_d100-me4_rs100_jmi5_jma25_a0.010_trp0.50.p'\n",
    "gvd100_fname = 'ex3-gvd_d100-me4_rs200_jmi2_jma7_a0.010_trp0.50.p'\n",
    "gvd100_results = load_plot_vs_J(gvd100_fname, True)\n",
    "#plt.savefig('a.pdf')"
   ]
  },
  {
   "cell_type": "code",
   "execution_count": null,
   "metadata": {
    "collapsed": true
   },
   "outputs": [],
   "source": []
  },
  {
   "cell_type": "code",
   "execution_count": null,
   "metadata": {
    "collapsed": true
   },
   "outputs": [],
   "source": []
  }
 ],
 "metadata": {
  "kernelspec": {
   "display_name": "Python 2",
   "language": "python",
   "name": "python2"
  },
  "language_info": {
   "codemirror_mode": {
    "name": "ipython",
    "version": 2
   },
   "file_extension": ".py",
   "mimetype": "text/x-python",
   "name": "python",
   "nbconvert_exporter": "python",
   "pygments_lexer": "ipython2",
   "version": "2.7.10"
  }
 },
 "nbformat": 4,
 "nbformat_minor": 0
}
