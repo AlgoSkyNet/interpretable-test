{
 "cells": [
  {
   "cell_type": "markdown",
   "metadata": {
    "collapsed": true
   },
   "source": [
    "## Experiment: type-I, type-II errors as d increases"
   ]
  },
  {
   "cell_type": "code",
   "execution_count": null,
   "metadata": {
    "collapsed": false
   },
   "outputs": [],
   "source": [
    "%load_ext autoreload\n",
    "%autoreload 2\n",
    "%matplotlib inline\n",
    "#%config InlineBackend.figure_format = 'svg'\n",
    "%config InlineBackend.figure_format = 'pdf'\n",
    "import freqopttest.util as util\n",
    "import freqopttest.data as data\n",
    "import freqopttest.ex.exglobal as exglo\n",
    "import freqopttest.kernel as kernel\n",
    "import freqopttest.tst as tst\n",
    "import freqopttest.glo as glo\n",
    "import freqopttest.plot as plot\n",
    "import matplotlib.pyplot as plt\n",
    "import numpy as np\n",
    "import scipy.stats as stats\n",
    "import sys"
   ]
  },
  {
   "cell_type": "code",
   "execution_count": null,
   "metadata": {
    "collapsed": false
   },
   "outputs": [],
   "source": [
    "def load_plot_vs_d(fname, h1_true, show_legend=True):\n",
    "    func_xvalues = lambda results: results['dimensions']\n",
    "    def func_title(results):\n",
    "        repeats, _, n_methods = results['test_results'].shape\n",
    "        alpha = results['alpha']\n",
    "        test_size = (1.0 - results['tr_proportion'])*results['sample_size']\n",
    "        title = '%s. %d trials. test size: %d. $\\\\alpha$ = %.2g.'%\\\n",
    "            ( results['prob_label'], repeats, test_size, alpha)\n",
    "        return title\n",
    "    results = plot.plot_prob_stat_above_thresh(2, fname, h1_true, func_xvalues, 'Dimension', func_title)\n",
    "    \n",
    "    plt.title('')\n",
    "    plt.gca().legend().set_visible(show_legend)\n",
    "        \n",
    "    return results\n"
   ]
  },
  {
   "cell_type": "code",
   "execution_count": null,
   "metadata": {
    "collapsed": true
   },
   "outputs": [],
   "source": [
    "# font options\n",
    "font = {\n",
    "    #'family' : 'normal',\n",
    "    #'weight' : 'bold',\n",
    "    'size'   : 18\n",
    "}\n",
    "\n",
    "plt.rc('font', **font)\n",
    "plt.rc('lines', linewidth=2)"
   ]
  },
  {
   "cell_type": "code",
   "execution_count": null,
   "metadata": {
    "collapsed": false
   },
   "outputs": [],
   "source": [
    "# H0 true. Same Gauss. \n",
    "sg_fname = 'ex2-sg_low-me6_J5_rs500_dmi2_dma14_a0.010_trp0.50.p'\n",
    "sg_results = load_plot_vs_d(sg_fname, False)\n",
    "plt.savefig(sg_fname.replace('.p', '.pdf', 1))"
   ]
  },
  {
   "cell_type": "code",
   "execution_count": null,
   "metadata": {
    "collapsed": false
   },
   "outputs": [],
   "source": [
    "# H0 true. Same Gauss. \n",
    "sg_fname = 'ex2-sg-me7_J5_rs500_dmi5_dma1500_a0.010_trp0.50.p'\n",
    "sg_results = load_plot_vs_d(sg_fname, False, show_legend=False)\n",
    "plt.ylim([0, 0.025])\n",
    "plt.savefig(sg_fname.replace('.p', '.pdf', 1))"
   ]
  },
  {
   "cell_type": "code",
   "execution_count": null,
   "metadata": {
    "collapsed": false,
    "scrolled": false
   },
   "outputs": [],
   "source": [
    "# 5 = T-test\n",
    "rep_dim_method = sg_results['test_results']\n",
    "f_pval = lambda cell: cell['h0_rejected']\n",
    "vf_pval = np.vectorize(f_pval)\n",
    "rejs = vf_pval(rep_dim_method)\n",
    "ttest_rep_dim = rejs[:, :, 5]\n",
    "dm = np.mean(rejs, 0)\n",
    "ttest = dm[:, 5]\n"
   ]
  },
  {
   "cell_type": "code",
   "execution_count": null,
   "metadata": {
    "collapsed": false
   },
   "outputs": [],
   "source": [
    "# H1 true. Gaussian. mean diff\n",
    "gmd_fname = 'ex2-gmd-me7_J5_rs500_dmi5_dma1500_a0.010_trp0.50.p'\n",
    "gmd_results = load_plot_vs_d(gmd_fname, True, show_legend=False)\n",
    "plt.ylim([0, 1.03])\n",
    "plt.savefig(gmd_fname.replace('.p', '.pdf', 1))"
   ]
  },
  {
   "cell_type": "code",
   "execution_count": null,
   "metadata": {
    "collapsed": false,
    "scrolled": true
   },
   "outputs": [],
   "source": [
    "gmd_results['test_results'][5]\n"
   ]
  },
  {
   "cell_type": "code",
   "execution_count": null,
   "metadata": {
    "collapsed": false
   },
   "outputs": [],
   "source": [
    "# H1 true. Gaussian. variance diff\n",
    "gvd_fname = 'ex2-gvd-me7_J5_rs500_dmi5_dma500_a0.010_trp0.50.p'\n",
    "gvd_results = load_plot_vs_d(gvd_fname, True, show_legend=False)\n",
    "#plt.legend(bbox_to_anchor=(1.6, 0.95))\n",
    "plt.savefig(gvd_fname.replace('.p', '.pdf', 1))"
   ]
  },
  {
   "cell_type": "code",
   "execution_count": null,
   "metadata": {
    "collapsed": true
   },
   "outputs": [],
   "source": []
  }
 ],
 "metadata": {
  "kernelspec": {
   "display_name": "Python 2",
   "language": "python",
   "name": "python2"
  },
  "language_info": {
   "codemirror_mode": {
    "name": "ipython",
    "version": 2
   },
   "file_extension": ".py",
   "mimetype": "text/x-python",
   "name": "python",
   "nbconvert_exporter": "python",
   "pygments_lexer": "ipython2",
   "version": "2.7.11"
  }
 },
 "nbformat": 4,
 "nbformat_minor": 0
}
