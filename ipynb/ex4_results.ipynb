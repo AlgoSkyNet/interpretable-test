{
 "cells": [
  {
   "cell_type": "markdown",
   "metadata": {},
   "source": [
    "Process results of experiments on text data"
   ]
  },
  {
   "cell_type": "code",
   "execution_count": 1,
   "metadata": {
    "collapsed": false,
    "scrolled": true
   },
   "outputs": [],
   "source": [
    "%load_ext autoreload\n",
    "%autoreload 2\n",
    "%matplotlib inline\n",
    "#%config InlineBackend.figure_format = 'svg'\n",
    "#%config InlineBackend.figure_format = 'pdf'\n",
    "import freqopttest.util as util\n",
    "import freqopttest.data as data\n",
    "import freqopttest.ex.exglobal as exglo\n",
    "from freqopttest.ex.ex4_text import load_nips_TSTData\n",
    "import freqopttest.kernel as kernel\n",
    "import freqopttest.tst as tst\n",
    "import freqopttest.glo as glo\n",
    "import freqopttest.plot as plot\n",
    "import matplotlib.pyplot as plt\n",
    "import numpy as np\n",
    "import scipy.stats as stats\n",
    "import sys"
   ]
  },
  {
   "cell_type": "code",
   "execution_count": 4,
   "metadata": {
    "collapsed": false
   },
   "outputs": [],
   "source": [
    "result_fnames = [\n",
    "    'ex4-bayes_bayes_d2000_rnoun-me3_J1_rs1000_nma430_d2000_a0.010_trp0.50.p', #0\n",
    "    'ex4-bayes_deep_d2000_rnoun-me3_J1_rs1000_nma433_d2000_a0.010_trp0.50.p', #1\n",
    "    'ex4-bayes_learning_d2000_rnoun-me3_J1_rs1000_nma276_d2000_a0.010_trp0.50.p',#2\n",
    "    'ex4-bayes_neuro_d2000_rnoun-me3_J1_rs1000_nma788_d2000_a0.010_trp0.50.p', #3\n",
    "    'ex4-deep_learning_d2000_rnoun-me3_J1_rs1000_nma299_d2000_a0.010_trp0.50.p', #4\n",
    "    'ex4-neuro_learning_d2000_rnoun-me3_J1_rs1000_nma293_d2000_a0.010_trp0.50.p' #5\n",
    "]\n",
    "result_fnames = [\n",
    "    'ex4-bayes_bayes_d2000_rnoun-me3_J1_rs500_nma430_d2000_a0.010_trp0.50.p', #0\n",
    "    'ex4-bayes_deep_d2000_rnoun-me3_J1_rs500_nma433_d2000_a0.010_trp0.50.p', #1\n",
    "    'ex4-bayes_learning_d2000_rnoun-me3_J1_rs500_nma276_d2000_a0.010_trp0.50.p',#2\n",
    "    'ex4-bayes_neuro_d2000_rnoun-me3_J1_rs500_nma788_d2000_a0.010_trp0.50.p', #3\n",
    "    'ex4-deep_learning_d2000_rnoun-me3_J1_rs500_nma299_d2000_a0.010_trp0.50.p', #4\n",
    "    'ex4-neuro_learning_d2000_rnoun-me3_J1_rs500_nma293_d2000_a0.010_trp0.50.p' #5\n",
    "]\n",
    "result_fnames = [\n",
    "    'ex4-bayes_bayes_d2000_rnoun-me6_J1_rs500_nma430_d2000_a0.010_trp0.50.p', #0\n",
    "    'ex4-bayes_deep_d2000_rnoun-me6_J1_rs500_nma433_d2000_a0.010_trp0.50.p', #1\n",
    "    'ex4-bayes_learning_d2000_rnoun-me6_J1_rs500_nma276_d2000_a0.010_trp0.50.p',#2\n",
    "    'ex4-bayes_neuro_d2000_rnoun-me6_J1_rs500_nma788_d2000_a0.010_trp0.50.p', #3\n",
    "    'ex4-deep_learning_d2000_rnoun-me6_J1_rs500_nma299_d2000_a0.010_trp0.50.p', #4\n",
    "    'ex4-neuro_learning_d2000_rnoun-me6_J1_rs500_nma293_d2000_a0.010_trp0.50.p' #5\n",
    "]\n",
    "fname_labels = [\n",
    "    'Bayes-Bayes',\n",
    "    'Bayes-Deep',\n",
    "    'Bayes-Learn',\n",
    "    'Bayes-Neuro',\n",
    "    'Learn-Deep',\n",
    "    'Learn-Neuro'\n",
    "]\n",
    "\n",
    "#result_fnames = ['ex4-bayes_bayes_d2000_rnoun-me4_J1_rs500_nma430_d2000_a0.010_trp0.50.p']\n",
    "fname = result_fnames[5]\n",
    "repeats = 500\n",
    "ex = 4\n",
    "results = glo.ex_load_result(ex, fname)\n"
   ]
  },
  {
   "cell_type": "code",
   "execution_count": 5,
   "metadata": {
    "collapsed": false
   },
   "outputs": [],
   "source": [
    "data_fname = results['data_fname']\n",
    "#labels = ['ME-full', 'ME-opt-0.5', 'ME-full', 'ME-gw-opt', \n",
    "#        'ME-grid', 'SCF-full', 'SCF-full', 'SCF-gw-opt', 'SCF-grid',\n",
    "#        'MMD-lin', '$T^2$']\n",
    "\n",
    "method = 'ME-full'\n",
    "method_labels = results['method_labels'] \n",
    "method_index = method_labels.index(method)\n",
    "\n",
    "results0 = results['results'] \n",
    "method_results = results0[:, method_index]\n",
    "\n",
    "alpha = 0.01\n",
    "reps = len(method_results)"
   ]
  },
  {
   "cell_type": "code",
   "execution_count": 14,
   "metadata": {
    "collapsed": false,
    "scrolled": true
   },
   "outputs": [
    {
     "ename": "AttributeError",
     "evalue": "'numpy.ndarray' object has no attribute 'keys'",
     "output_type": "error",
     "traceback": [
      "\u001b[1;31m---------------------------------------------------------------------------\u001b[0m",
      "\u001b[1;31mAttributeError\u001b[0m                            Traceback (most recent call last)",
      "\u001b[1;32m<ipython-input-14-ef74502cae77>\u001b[0m in \u001b[0;36m<module>\u001b[1;34m()\u001b[0m\n\u001b[0;32m     11\u001b[0m     \u001b[1;32mreturn\u001b[0m \u001b[0mmet_powers\u001b[0m\u001b[1;33m\u001b[0m\u001b[0m\n\u001b[0;32m     12\u001b[0m \u001b[1;33m\u001b[0m\u001b[0m\n\u001b[1;32m---> 13\u001b[1;33m \u001b[0mmet_pows\u001b[0m \u001b[1;33m=\u001b[0m \u001b[0mmethods_powers\u001b[0m\u001b[1;33m(\u001b[0m\u001b[0mresults\u001b[0m\u001b[1;33m)\u001b[0m\u001b[1;33m\u001b[0m\u001b[0m\n\u001b[0m\u001b[0;32m     14\u001b[0m \u001b[1;32mprint\u001b[0m\u001b[1;33m(\u001b[0m\u001b[1;34m'test powers: %s'\u001b[0m\u001b[1;33m%\u001b[0m \u001b[0mmet_pows\u001b[0m\u001b[1;33m)\u001b[0m\u001b[1;33m\u001b[0m\u001b[0m\n\u001b[0;32m     15\u001b[0m \u001b[1;32mprint\u001b[0m\u001b[1;33m(\u001b[0m\u001b[0mmethod_labels\u001b[0m\u001b[1;33m)\u001b[0m\u001b[1;33m\u001b[0m\u001b[0m\n",
      "\u001b[1;32m<ipython-input-14-ef74502cae77>\u001b[0m in \u001b[0;36mmethods_powers\u001b[1;34m(R, reps)\u001b[0m\n\u001b[0;32m      6\u001b[0m     \u001b[1;32mfor\u001b[0m \u001b[0mmi\u001b[0m \u001b[1;32min\u001b[0m \u001b[0mrange\u001b[0m\u001b[1;33m(\u001b[0m\u001b[0mn_methods\u001b[0m\u001b[1;33m)\u001b[0m\u001b[1;33m:\u001b[0m\u001b[1;33m\u001b[0m\u001b[0m\n\u001b[0;32m      7\u001b[0m         \u001b[0mmethod_results\u001b[0m \u001b[1;33m=\u001b[0m \u001b[0mresults0\u001b[0m\u001b[1;33m[\u001b[0m\u001b[1;33m:\u001b[0m\u001b[1;33m,\u001b[0m \u001b[0mmi\u001b[0m\u001b[1;33m]\u001b[0m\u001b[1;33m\u001b[0m\u001b[0m\n\u001b[1;32m----> 8\u001b[1;33m         \u001b[1;32mprint\u001b[0m \u001b[0mmethod_results\u001b[0m\u001b[1;33m.\u001b[0m\u001b[0mkeys\u001b[0m\u001b[1;33m(\u001b[0m\u001b[1;33m)\u001b[0m\u001b[1;33m\u001b[0m\u001b[0m\n\u001b[0m\u001b[0;32m      9\u001b[0m         \u001b[0mpvals\u001b[0m \u001b[1;33m=\u001b[0m \u001b[0mnp\u001b[0m\u001b[1;33m.\u001b[0m\u001b[0marray\u001b[0m\u001b[1;33m(\u001b[0m\u001b[1;33m[\u001b[0m\u001b[0mmethod_results\u001b[0m\u001b[1;33m[\u001b[0m\u001b[0mr\u001b[0m\u001b[1;33m]\u001b[0m\u001b[1;33m[\u001b[0m\u001b[1;34m'test_result'\u001b[0m\u001b[1;33m]\u001b[0m\u001b[1;33m[\u001b[0m\u001b[1;34m'pvalue'\u001b[0m\u001b[1;33m]\u001b[0m \u001b[1;32mfor\u001b[0m \u001b[0mr\u001b[0m \u001b[1;32min\u001b[0m \u001b[0mrange\u001b[0m\u001b[1;33m(\u001b[0m\u001b[0mreps\u001b[0m\u001b[1;33m)\u001b[0m\u001b[1;33m]\u001b[0m \u001b[1;33m)\u001b[0m\u001b[1;33m\u001b[0m\u001b[0m\n\u001b[0;32m     10\u001b[0m         \u001b[0mmet_powers\u001b[0m\u001b[1;33m[\u001b[0m\u001b[0mmi\u001b[0m\u001b[1;33m]\u001b[0m \u001b[1;33m=\u001b[0m \u001b[0mnp\u001b[0m\u001b[1;33m.\u001b[0m\u001b[0mmean\u001b[0m\u001b[1;33m(\u001b[0m\u001b[0mpvals\u001b[0m \u001b[1;33m<\u001b[0m \u001b[0malpha\u001b[0m\u001b[1;33m)\u001b[0m\u001b[1;33m\u001b[0m\u001b[0m\n",
      "\u001b[1;31mAttributeError\u001b[0m: 'numpy.ndarray' object has no attribute 'keys'"
     ]
    }
   ],
   "source": [
    "def methods_powers(R, reps=repeats):\n",
    "    \"\"\"Return the powers of all methods\"\"\"\n",
    "    n_methods = len(R['method_labels'])\n",
    "    met_powers = np.zeros(n_methods)\n",
    "    results0 = R['results'] \n",
    "    for mi in range(n_methods):\n",
    "        method_results = results0[:, mi]\n",
    "        pvals = np.array([method_results[r]['test_result']['pvalue'] for r in range(reps)] )\n",
    "        met_powers[mi] = np.mean(pvals < alpha)\n",
    "    return met_powers\n",
    "        \n",
    "met_pows = methods_powers(results)\n",
    "print('test powers: %s'% met_pows)\n",
    "print(method_labels)\n"
   ]
  },
  {
   "cell_type": "code",
   "execution_count": 34,
   "metadata": {
    "collapsed": false,
    "scrolled": false
   },
   "outputs": [
    {
     "data": {
      "text/plain": [
       "{'alpha': 0.01,\n",
       " 'h0_rejected': True,\n",
       " 'list_permuted_mmd2': array([ -2.44378174e-04,  -7.18927750e-04,  -2.01664729e-04,\n",
       "          2.06292427e-03,  -7.11994181e-04,   1.96771652e-04,\n",
       "         -7.62568337e-04,  -2.32717421e-04,   6.05024394e-04,\n",
       "         -9.89609430e-06,   7.62015733e-05,  -8.90213804e-04,\n",
       "         -2.64604583e-04,  -7.12698295e-04,  -5.35515186e-04,\n",
       "          3.62198734e-04,  -1.06171178e-04,  -7.76525542e-04,\n",
       "          1.37870938e-04,   3.40270090e-04,  -1.01174818e-03,\n",
       "         -3.31842954e-04,  -8.63319732e-04,   3.09048813e-05,\n",
       "         -1.77976545e-04,  -3.01119289e-04,  -1.03200745e-04,\n",
       "         -1.78900447e-04,  -1.80730254e-04,  -3.57761244e-04,\n",
       "         -1.54823157e-04,  -6.49549855e-04,  -5.04299822e-05,\n",
       "          1.49807176e-03,   2.52980087e-04,  -5.05493872e-04,\n",
       "         -3.17552196e-04,   1.36791050e-04,  -1.88136663e-04,\n",
       "          7.02317395e-05,  -5.82174020e-04,  -8.41603815e-04,\n",
       "          1.61444777e-03,   8.57827405e-05,   1.43688111e-03,\n",
       "          1.62986813e-03,  -8.29615622e-04,  -7.55186120e-04,\n",
       "         -8.98100852e-04,  -6.99594819e-04,  -6.96018096e-04,\n",
       "         -7.21990595e-04,  -1.46628204e-04,  -5.44759040e-04,\n",
       "          2.28525358e-04,   2.10612992e-04,  -5.51330124e-04,\n",
       "         -3.63486309e-04,   3.15976799e-04,  -5.93833555e-04,\n",
       "          2.10714733e-03,  -4.69126098e-04,  -1.00713267e-03,\n",
       "         -7.11719131e-04,   1.84070183e-03,  -5.95995984e-04,\n",
       "         -8.65836149e-04,   2.81625856e-03,  -1.28603579e-04,\n",
       "         -6.02566780e-04,  -6.00004258e-04,   2.85601633e-04,\n",
       "          2.35812371e-04,  -3.23589488e-04,   8.37731251e-04,\n",
       "         -8.21607949e-04,   2.03170262e-03,  -5.78700657e-04,\n",
       "         -4.22895419e-04,  -6.01409968e-04,   2.70595568e-04,\n",
       "         -7.91938634e-04,  -5.19620720e-04,  -9.13789547e-04,\n",
       "          5.52048177e-03,  -9.51362008e-04,  -8.67054796e-04,\n",
       "         -6.33047418e-04,  -2.61713845e-04,  -2.79480670e-04,\n",
       "         -2.78576258e-04,   6.42957189e-03,   2.07336764e-05,\n",
       "         -2.42969030e-04,  -6.79359332e-05,  -5.18559105e-04,\n",
       "         -5.39589903e-04,   3.25907129e-03,  -3.92546257e-04,\n",
       "         -6.05049428e-04,   7.58428345e-04,   9.12460612e-04,\n",
       "         -8.12906856e-04,   2.35615093e-04,  -2.55539877e-04,\n",
       "          6.27064275e-05,   2.64850008e-03,  -6.99551714e-04,\n",
       "         -5.07686411e-04,   1.96250841e-04,  -6.60732837e-04,\n",
       "         -1.64196798e-04,   1.34035958e-05,  -2.46963617e-04,\n",
       "         -3.28696488e-04,  -6.58628037e-04,  -2.86792066e-04,\n",
       "         -2.41858631e-04,  -9.71711041e-04,   1.71864559e-03,\n",
       "          1.37157557e-04,  -6.83676030e-04,   7.43927641e-04,\n",
       "         -5.40353841e-04,  -7.94430884e-04,  -1.21433672e-04,\n",
       "         -6.06247616e-04,  -4.23215986e-04,  -6.62538351e-04,\n",
       "         -4.45053373e-04,  -3.65069576e-04,  -8.04443592e-04,\n",
       "          3.60387091e-04,  -2.94731171e-04,  -5.58063671e-05,\n",
       "          1.11212757e-03,  -8.22606669e-05,  -3.94387567e-04,\n",
       "          2.68068993e-05,  -3.34678333e-04,   3.79775812e-05,\n",
       "          3.74786712e-04,  -4.84830183e-04,  -6.29668913e-04,\n",
       "         -3.99021347e-04,   1.08076827e-03,   2.28934583e-04,\n",
       "          7.21039630e-05,  -3.04420069e-04,  -5.94508570e-04,\n",
       "         -6.20546487e-04,   2.46291927e-03,   6.34919043e-04,\n",
       "         -5.66495896e-05,   3.14066425e-05,   3.57759172e-03,\n",
       "          1.68740507e-03,  -1.01303117e-03,  -1.45251088e-04,\n",
       "         -9.28290270e-04,   2.62364975e-05,   4.34718018e-04,\n",
       "          9.23443209e-05,  -7.91991356e-04,   1.00691973e-03,\n",
       "         -1.95635207e-04,  -4.41749961e-04,  -1.01400475e-03,\n",
       "          9.53262016e-04,  -3.43037947e-04,  -4.81603690e-04,\n",
       "         -6.11206511e-04,  -4.76454892e-04,  -3.41417026e-04,\n",
       "         -8.58744611e-04,   7.55581050e-04,  -9.09243488e-04,\n",
       "          9.08297710e-04,  -3.11357593e-04,   1.46629891e-04,\n",
       "         -2.96105260e-04,  -3.03727282e-04,  -5.10619901e-04,\n",
       "          4.10359011e-03,  -8.20746455e-05,  -2.86488053e-04,\n",
       "          1.13456009e-03,  -7.95918800e-04,   1.78892494e-03,\n",
       "          3.98085097e-04,  -1.20486602e-03,  -4.28644436e-04,\n",
       "          9.03508518e-04,  -5.24570619e-04,   2.75487273e-05,\n",
       "         -1.03509439e-03,  -3.94310683e-04,   1.80843837e-04,\n",
       "          7.00833847e-05,   1.10376686e-03,  -6.83545785e-04,\n",
       "         -2.15080983e-04,   1.83109490e-05,  -7.53831930e-04,\n",
       "         -5.01715979e-04,   1.64549483e-03,  -1.92951865e-04,\n",
       "         -6.52977229e-04,  -8.53482262e-04,  -7.65860275e-04,\n",
       "         -8.26303115e-04,  -7.18422192e-04,   1.03147337e-03,\n",
       "         -7.01057023e-04,   1.64789077e-04,  -7.22969873e-04,\n",
       "         -5.64958644e-04,  -4.81887366e-04,   9.88279060e-04,\n",
       "         -8.84929378e-04,  -7.73915173e-04,  -6.24412577e-04,\n",
       "          2.06816504e-04,  -5.63248259e-04,  -6.57613929e-04,\n",
       "         -7.82201793e-04,  -8.64016044e-04,  -8.76142604e-05,\n",
       "         -7.11620074e-04,  -2.92636961e-04,  -1.61141144e-04,\n",
       "         -6.29761929e-04,  -6.62370506e-04,   3.09911939e-03,\n",
       "          1.54871033e-04,  -4.53671952e-04,  -7.09151100e-04,\n",
       "          9.62376383e-04,   2.91651428e-04,  -4.92014987e-04,\n",
       "          1.47537821e-03,  -3.43379349e-04,  -3.07289965e-04,\n",
       "         -2.72209888e-04,  -1.01078780e-03,   2.02214958e-04,\n",
       "         -3.41317927e-04,  -4.02028717e-04,  -7.27971540e-05,\n",
       "          5.33363412e-04,   9.13917983e-05,  -3.47841932e-04,\n",
       "         -7.35532133e-04,   5.38282751e-04,  -4.19114701e-04,\n",
       "         -3.90787000e-04,  -1.25526949e-04,  -7.67710037e-04,\n",
       "         -2.57830902e-04,  -6.27284603e-04,  -6.53248510e-05,\n",
       "         -5.12332149e-04,  -8.58779227e-04,   3.06453813e-04,\n",
       "         -9.54593408e-04,   2.35443159e-04,  -6.36462945e-04,\n",
       "         -3.37189853e-04,   1.99993023e-04,  -5.83408331e-04,\n",
       "          1.02424281e-03,  -2.62705332e-04,  -2.02125699e-04,\n",
       "         -7.66542265e-04,  -3.12994238e-04,  -7.31390669e-04,\n",
       "         -1.32250434e-03,   2.00465528e-05,  -5.75265198e-04,\n",
       "         -2.92243008e-04,  -2.45357113e-04,  -5.76145080e-04,\n",
       "          1.27505790e-03,  -3.82838530e-04,   3.18738472e-04,\n",
       "          1.13080448e-03,  -4.63723300e-04,   3.76805012e-04,\n",
       "         -1.02555301e-03,   5.19860017e-04,  -1.47826547e-04,\n",
       "         -5.78026647e-04,  -5.69806518e-04,   2.20966208e-03,\n",
       "         -1.55267667e-04,   4.37473149e-05,  -8.88098774e-04,\n",
       "         -1.48531906e-04,  -6.50077009e-04,  -3.85301129e-04,\n",
       "         -5.84850799e-04,  -6.52457621e-04,  -4.23858823e-04,\n",
       "          4.34986008e-04,   3.81055131e-04,  -7.11942205e-04,\n",
       "         -3.03262563e-04,  -1.54648348e-04,   9.70479509e-04,\n",
       "         -5.24466052e-04,  -7.73215746e-04,   9.17659617e-04,\n",
       "          1.46683579e-04,  -6.71927986e-04,  -5.74799186e-04,\n",
       "         -6.07258865e-04,  -7.23402929e-04,  -7.03595604e-04,\n",
       "         -6.31060714e-04,   1.07901917e-03,  -5.27192854e-04,\n",
       "         -5.37126276e-04,  -1.56629513e-04,  -7.75244526e-04,\n",
       "         -2.93246643e-04,   2.76728470e-03,  -8.43817281e-04,\n",
       "         -5.59738305e-04,   1.80232974e-04,   4.60082285e-04,\n",
       "         -6.10939051e-04,  -4.83641004e-04,  -3.72920544e-04,\n",
       "          7.93125770e-05,  -9.38196367e-04,   1.00820833e-03,\n",
       "         -4.78952277e-04,   4.48063377e-04,  -3.97725764e-04,\n",
       "         -4.22377477e-04,   7.54723618e-04,  -9.36518624e-05,\n",
       "          1.44644647e-04,  -1.39504281e-04,  -6.59987019e-04,\n",
       "         -2.68627387e-04,  -9.09417468e-04,  -9.13229326e-04,\n",
       "          8.70121292e-04,  -7.73613637e-04,   8.80554261e-05,\n",
       "         -3.36240256e-04,  -6.86173009e-04,  -3.63898183e-04,\n",
       "          5.97475447e-04,  -3.69059215e-04,  -2.94330052e-05,\n",
       "         -4.02227825e-04,  -2.66426303e-04,  -1.56574810e-04,\n",
       "          1.06437753e-03,   4.77181845e-04,   2.04846464e-04,\n",
       "         -1.01946113e-03,   1.36795151e-03,  -4.79544789e-04,\n",
       "         -3.63216212e-04,   2.57683058e-03,   1.86308005e-03,\n",
       "         -3.26874083e-04,   1.67010038e-04,  -6.42954822e-05,\n",
       "         -1.75174472e-04,  -1.22562896e-03,   1.10168791e-04,\n",
       "         -4.13988284e-04,  -1.28204063e-03,  -7.14371294e-04,\n",
       "         -7.41740329e-04,  -8.59815091e-04,  -8.33209904e-04,\n",
       "          6.25534579e-04,  -3.10909713e-04,  -7.43414310e-05,\n",
       "          3.42158611e-04,   3.80864312e-04,   8.94528114e-04,\n",
       "         -3.63411212e-04,   6.33285724e-04,   2.54898311e-04,\n",
       "         -6.85831526e-04,   3.41002737e-04,  -7.24886212e-04,\n",
       "         -1.98630738e-04,   5.94707238e-04,   4.88100342e-05,\n",
       "         -2.15045115e-04,   7.87328828e-04,  -4.86684396e-04,\n",
       "          3.06908713e-03,   4.75182387e-03,  -4.04587517e-04,\n",
       "         -5.08641174e-04,   4.53889234e-04,  -4.54027236e-04,\n",
       "          6.08558811e-04,   6.53091833e-04,  -7.87393800e-04,\n",
       "         -1.32081309e-04,  -1.30069368e-04,  -9.33758547e-04,\n",
       "         -6.86279222e-04,   3.05983755e-03,  -4.87072112e-04,\n",
       "         -6.22524166e-04,  -1.92995986e-04,  -2.33143303e-04,\n",
       "         -7.17294348e-04,   7.50290806e-04,   4.71438225e-06,\n",
       "         -7.08305619e-04,  -7.62993666e-04,  -1.03906532e-03,\n",
       "          5.85767385e-04,  -5.65450159e-04,   2.34403915e-04,\n",
       "         -1.03236414e-04,  -2.91884099e-05,   2.96100554e-04,\n",
       "         -2.20276566e-05,  -7.25003575e-04,  -1.64822169e-04,\n",
       "         -9.90405572e-04,  -1.78295134e-04,   1.51220311e-03,\n",
       "          1.54071289e-04,  -3.15179886e-04,  -2.98986697e-04,\n",
       "         -4.17307943e-04,  -9.11921591e-04,  -1.01315256e-03,\n",
       "          4.66497257e-03,  -7.10734868e-04,  -4.18801479e-04,\n",
       "         -2.57727160e-04,  -6.18304003e-04,   4.31555362e-04,\n",
       "         -2.77715428e-04,   2.68381497e-04,  -5.69602850e-04,\n",
       "         -4.85791499e-04,  -6.69183197e-04,  -2.89546360e-05,\n",
       "         -5.62091483e-04,  -3.02389862e-04,  -5.63918194e-04,\n",
       "         -1.43858736e-04,  -6.17571003e-04,  -6.45377456e-04,\n",
       "          4.78773928e-04,  -6.02016365e-04,  -8.37398017e-04,\n",
       "         -6.85759065e-04,  -5.70325570e-04,  -7.25532352e-04,\n",
       "         -3.45435213e-04,   1.31251729e-04,  -6.88733306e-05,\n",
       "          2.53687921e-04,  -8.20642010e-04,  -4.26845557e-04,\n",
       "         -5.37810062e-04,   1.47660866e-03,  -4.49049772e-04,\n",
       "          2.89333207e-03,  -1.30693199e-04,  -4.90996834e-04,\n",
       "         -2.73296524e-04,  -2.49717027e-04,  -8.09224200e-05,\n",
       "         -6.85558212e-04,   4.10648671e-04,  -8.13158138e-04,\n",
       "          1.49924285e-03,   1.67190845e-03,  -8.73750487e-05,\n",
       "         -9.19433013e-04,  -2.44887124e-04,   1.46639756e-04,\n",
       "         -9.81165034e-04,   2.99711236e-03,   3.55732506e-03,\n",
       "         -7.65300002e-04,  -6.91802329e-04,  -2.86943334e-04,\n",
       "          6.49006293e-04,   1.93303579e-04,   6.29848903e-04,\n",
       "         -1.02260247e-04,   4.02504902e-04]),\n",
       " 'pvalue': 0.0,\n",
       " 'test_stat': 0.01062100772010488}"
      ]
     },
     "execution_count": 34,
     "metadata": {},
     "output_type": "execute_result"
    }
   ],
   "source": [
    "results['results'][:, 4][2]"
   ]
  },
  {
   "cell_type": "code",
   "execution_count": 22,
   "metadata": {
    "collapsed": false,
    "scrolled": true
   },
   "outputs": [
    {
     "ename": "ValueError",
     "evalue": "/home/nuke/git/fotest/freqopttest/data/neuro_learning_np832_nq293_d2000.p does not exist",
     "output_type": "error",
     "traceback": [
      "\u001b[1;31m---------------------------------------------------------------------------\u001b[0m",
      "\u001b[1;31mValueError\u001b[0m                                Traceback (most recent call last)",
      "\u001b[1;32m<ipython-input-22-6c863858ce25>\u001b[0m in \u001b[0;36m<module>\u001b[1;34m()\u001b[0m\n\u001b[0;32m      1\u001b[0m \u001b[1;31m# load terms\u001b[0m\u001b[1;33m\u001b[0m\u001b[1;33m\u001b[0m\u001b[0m\n\u001b[1;32m----> 2\u001b[1;33m \u001b[0mdata\u001b[0m \u001b[1;33m=\u001b[0m \u001b[0mglo\u001b[0m\u001b[1;33m.\u001b[0m\u001b[0mload_data_file\u001b[0m\u001b[1;33m(\u001b[0m\u001b[0mdata_fname\u001b[0m\u001b[1;33m)\u001b[0m\u001b[1;33m\u001b[0m\u001b[0m\n\u001b[0m\u001b[0;32m      3\u001b[0m \u001b[0mterms\u001b[0m \u001b[1;33m=\u001b[0m \u001b[0mdata\u001b[0m\u001b[1;33m[\u001b[0m\u001b[1;34m'words'\u001b[0m\u001b[1;33m]\u001b[0m\u001b[1;33m\u001b[0m\u001b[0m\n",
      "\u001b[1;32m/home/nuke/git/fotest/freqopttest/glo.pyc\u001b[0m in \u001b[0;36mload_data_file\u001b[1;34m(*relative_path)\u001b[0m\n\u001b[0;32m     36\u001b[0m \u001b[1;32mdef\u001b[0m \u001b[0mload_data_file\u001b[0m\u001b[1;33m(\u001b[0m\u001b[1;33m*\u001b[0m\u001b[0mrelative_path\u001b[0m\u001b[1;33m)\u001b[0m\u001b[1;33m:\u001b[0m\u001b[1;33m\u001b[0m\u001b[0m\n\u001b[0;32m     37\u001b[0m     \u001b[0mfpath\u001b[0m \u001b[1;33m=\u001b[0m \u001b[0mdata_file\u001b[0m\u001b[1;33m(\u001b[0m\u001b[1;33m*\u001b[0m\u001b[0mrelative_path\u001b[0m\u001b[1;33m)\u001b[0m\u001b[1;33m\u001b[0m\u001b[0m\n\u001b[1;32m---> 38\u001b[1;33m     \u001b[1;32mreturn\u001b[0m \u001b[0mpickle_load\u001b[0m\u001b[1;33m(\u001b[0m\u001b[0mfpath\u001b[0m\u001b[1;33m)\u001b[0m\u001b[1;33m\u001b[0m\u001b[0m\n\u001b[0m\u001b[0;32m     39\u001b[0m \u001b[1;33m\u001b[0m\u001b[0m\n\u001b[0;32m     40\u001b[0m \u001b[1;32mdef\u001b[0m \u001b[0mex_result_folder\u001b[0m\u001b[1;33m(\u001b[0m\u001b[0mex\u001b[0m\u001b[1;33m)\u001b[0m\u001b[1;33m:\u001b[0m\u001b[1;33m\u001b[0m\u001b[0m\n",
      "\u001b[1;32m/home/nuke/git/fotest/freqopttest/glo.pyc\u001b[0m in \u001b[0;36mpickle_load\u001b[1;34m(fpath)\u001b[0m\n\u001b[0;32m     87\u001b[0m \u001b[1;32mdef\u001b[0m \u001b[0mpickle_load\u001b[0m\u001b[1;33m(\u001b[0m\u001b[0mfpath\u001b[0m\u001b[1;33m)\u001b[0m\u001b[1;33m:\u001b[0m\u001b[1;33m\u001b[0m\u001b[0m\n\u001b[0;32m     88\u001b[0m     \u001b[1;32mif\u001b[0m \u001b[1;32mnot\u001b[0m \u001b[0mos\u001b[0m\u001b[1;33m.\u001b[0m\u001b[0mpath\u001b[0m\u001b[1;33m.\u001b[0m\u001b[0misfile\u001b[0m\u001b[1;33m(\u001b[0m\u001b[0mfpath\u001b[0m\u001b[1;33m)\u001b[0m\u001b[1;33m:\u001b[0m\u001b[1;33m\u001b[0m\u001b[0m\n\u001b[1;32m---> 89\u001b[1;33m         \u001b[1;32mraise\u001b[0m \u001b[0mValueError\u001b[0m\u001b[1;33m(\u001b[0m\u001b[1;34m'%s does not exist'\u001b[0m \u001b[1;33m%\u001b[0m \u001b[0mfpath\u001b[0m\u001b[1;33m)\u001b[0m\u001b[1;33m\u001b[0m\u001b[0m\n\u001b[0m\u001b[0;32m     90\u001b[0m \u001b[1;33m\u001b[0m\u001b[0m\n\u001b[0;32m     91\u001b[0m     \u001b[1;32mwith\u001b[0m \u001b[0mopen\u001b[0m\u001b[1;33m(\u001b[0m\u001b[0mfpath\u001b[0m\u001b[1;33m,\u001b[0m \u001b[1;34m'r'\u001b[0m\u001b[1;33m)\u001b[0m \u001b[1;32mas\u001b[0m \u001b[0mf\u001b[0m\u001b[1;33m:\u001b[0m\u001b[1;33m\u001b[0m\u001b[0m\n",
      "\u001b[1;31mValueError\u001b[0m: /home/nuke/git/fotest/freqopttest/data/neuro_learning_np832_nq293_d2000.p does not exist"
     ]
    }
   ],
   "source": [
    "# load terms \n",
    "data = glo.load_data_file(data_fname)\n",
    "terms = data['words']"
   ]
  },
  {
   "cell_type": "code",
   "execution_count": null,
   "metadata": {
    "collapsed": false
   },
   "outputs": [],
   "source": [
    "pvals = np.zeros(reps)\n",
    "test_methods = []\n",
    "locs = []\n",
    "test_stats = np.zeros(reps)\n",
    "for r in xrange(reps):\n",
    "    test = method_results[r]['test_method']\n",
    "    test_methods.append(test)\n",
    "    test_result = method_results[r]['test_result']\n",
    "    pvals[r] = test_result['pvalue']\n",
    "    test_stats[r] = test_result['test_stat']"
   ]
  },
  {
   "cell_type": "code",
   "execution_count": null,
   "metadata": {
    "collapsed": false
   },
   "outputs": [],
   "source": [
    "test_power = np.mean(pvals < alpha)\n",
    "plt.plot(pvals)\n",
    "plt.xlabel('trial')\n",
    "plt.ylabel('pvalue')\n",
    "plt.title('test power: %.3g'%(test_power))"
   ]
  },
  {
   "cell_type": "code",
   "execution_count": null,
   "metadata": {
    "collapsed": false
   },
   "outputs": [],
   "source": [
    "J = 1\n",
    "dom = np.linspace(stats.chi2.ppf(0.2, J), stats.chi2.ppf(0.99, J), 300)\n",
    "#weights = np.ones_like(test_stats)/len(test_stats)\n",
    "nonan = test_stats[np.logical_not(np.isnan(test_stats))]\n",
    "ns, bins, patches = plt.hist(nonan, bins=30, normed=True)\n",
    "plt.plot(dom, stats.chi2.pdf(dom, J), 'r-', linewidth=2, label='$\\chi^2(%d)$'%J)\n",
    "plt.xlabel('test stats')\n",
    "plt.ylabel('normalized frequencies')\n",
    "plt.legend()"
   ]
  },
  {
   "cell_type": "code",
   "execution_count": null,
   "metadata": {
    "collapsed": false,
    "scrolled": true
   },
   "outputs": [],
   "source": [
    "from __future__ import print_function\n",
    "# learned test locations from all trials. reps x d\n",
    "if method == 'ME-full':\n",
    "    k = 5\n",
    "    sort_sign = -1\n",
    "    locs = np.array( [test_methods[r].test_locs[0] for r in range(reps)] )\n",
    "    scores = np.array([ np.abs(row) for row in locs])\n",
    "    topk_ind = np.array([ np.argsort(sort_sign*s)[:k] for s in scores])\n",
    "    ind_count = np.bincount(topk_ind.flatten())\n",
    "    eff_wind = np.where(ind_count)[0]\n",
    "    eff_count = ind_count[eff_wind]\n",
    "\n",
    "    # sort by occurrence frequencies in descending order\n",
    "    sind = np.argsort(-eff_count)\n",
    "    seff_wind = eff_wind[sind]\n",
    "    seff_count = eff_count[sind]\n",
    "    plt.stem(seff_count)\n",
    "    for t in terms[seff_wind]:\n",
    "        #print('\"%s\", '%t, end='')\n",
    "        print('%s, '%t, end='')\n"
   ]
  },
  {
   "cell_type": "code",
   "execution_count": null,
   "metadata": {
    "collapsed": false,
    "scrolled": false
   },
   "outputs": [],
   "source": [
    "def table_powers(result_fnames, fname_labels, reps=repeats):\n",
    "    \"\"\"print a table showing test powers of all methods in all the result files.\"\"\"\n",
    "    met_pows = []\n",
    "    ntes = []\n",
    "    for fi, fname in enumerate(result_fnames):\n",
    "        results = glo.ex_load_result(ex, fname)\n",
    "        tr_proportion = results['tr_proportion']\n",
    "        te_proportion = 1-tr_proportion\n",
    "        data_fname = results['data_fname']\n",
    "        # load data to get the sample size\n",
    "        tst_data, n = load_nips_TSTData(data_fname)\n",
    "        nte = int(te_proportion*n)\n",
    "        ntes.append(nte)\n",
    "        met_pows.append(methods_powers(results, reps))\n",
    "        \n",
    "    method_labels = results['method_labels']\n",
    "    print(method_labels)\n",
    "    for fnlabel, mps, n in zip(fname_labels, met_pows, ntes):\n",
    "        mps_str = [('%.3f'%p).lstrip('0') for p in mps]\n",
    "        str_row = [fnlabel] + ['%d'%n] + mps_str\n",
    "        print(' & '.join(str_row), end='')\n",
    "        print(' \\\\\\\\ \\n')\n",
    "\n",
    "table_powers(result_fnames, fname_labels, 500)"
   ]
  },
  {
   "cell_type": "code",
   "execution_count": null,
   "metadata": {
    "collapsed": true
   },
   "outputs": [],
   "source": []
  }
 ],
 "metadata": {
  "kernelspec": {
   "display_name": "Python 2",
   "language": "python",
   "name": "python2"
  },
  "language_info": {
   "codemirror_mode": {
    "name": "ipython",
    "version": 2
   },
   "file_extension": ".py",
   "mimetype": "text/x-python",
   "name": "python",
   "nbconvert_exporter": "python",
   "pygments_lexer": "ipython2",
   "version": "2.7.10"
  }
 },
 "nbformat": 4,
 "nbformat_minor": 0
}
