{
 "cells": [
  {
   "cell_type": "markdown",
   "metadata": {},
   "source": [
    "Process results of experiments on text data"
   ]
  },
  {
   "cell_type": "code",
   "execution_count": null,
   "metadata": {
    "collapsed": false,
    "scrolled": true
   },
   "outputs": [],
   "source": [
    "%load_ext autoreload\n",
    "%autoreload 2\n",
    "%matplotlib inline\n",
    "#%config InlineBackend.figure_format = 'svg'\n",
    "#%config InlineBackend.figure_format = 'pdf'\n",
    "import freqopttest.util as util\n",
    "import freqopttest.data as data\n",
    "import freqopttest.ex.exglobal as exglo\n",
    "from freqopttest.ex.ex4_text import load_nips_TSTData\n",
    "import freqopttest.kernel as kernel\n",
    "import freqopttest.tst as tst\n",
    "import freqopttest.glo as glo\n",
    "import freqopttest.plot as plot\n",
    "import matplotlib.pyplot as plt\n",
    "import numpy as np\n",
    "import scipy.stats as stats\n",
    "import sys"
   ]
  },
  {
   "cell_type": "code",
   "execution_count": null,
   "metadata": {
    "collapsed": false
   },
   "outputs": [],
   "source": [
    "result_fnames = [\n",
    "    'ex4-bayes_bayes_d2000_rnoun-me4_J1_rs500_nma430_d2000_a0.010_trp0.50.p', #0\n",
    "    'ex4-bayes_deep_d2000_rnoun-me4_J1_rs500_nma433_d2000_a0.010_trp0.50.p', #1\n",
    "    'ex4-bayes_learning_d2000_rnoun-me4_J1_rs500_nma276_d2000_a0.010_trp0.50.p',#2\n",
    "    'ex4-bayes_neuro_d2000_rnoun-me4_J1_rs500_nma788_d2000_a0.010_trp0.50.p', #3\n",
    "    'ex4-deep_learning_d2000_rnoun-me4_J1_rs500_nma299_d2000_a0.010_trp0.50.p', #4\n",
    "    'ex4-neuro_learning_d2000_rnoun-me4_J1_rs500_nma293_d2000_a0.010_trp0.50.p' #5\n",
    "]\n",
    "fname_labels = [\n",
    "    'Bayes-Bayes',\n",
    "    'Bayes-Deep',\n",
    "    'Bayes-Learn',\n",
    "    'Bayes-Neuro',\n",
    "    'Learn-Deep',\n",
    "    'Learn-Neuro'\n",
    "]\n",
    "\n",
    "#result_fnames = ['ex4-bayes_bayes_d2000_rnoun-me4_J1_rs500_nma430_d2000_a0.010_trp0.50.p']\n",
    "fname = result_fnames[0]\n",
    "reps = 500\n",
    "alpha = 0.01\n",
    "ex = 4\n",
    "results = glo.ex_load_result(ex, fname)\n"
   ]
  },
  {
   "cell_type": "code",
   "execution_count": null,
   "metadata": {
    "collapsed": false
   },
   "outputs": [],
   "source": [
    "data_fname = results['data_fname']\n",
    "#labels = ['ME-full', 'ME-opt-0.5', 'ME-full', 'ME-gw-opt', \n",
    "#        'ME-grid', 'SCF-full', 'SCF-full', 'SCF-gw-opt', 'SCF-grid',\n",
    "#        'MMD-lin', '$T^2$']\n",
    "\n",
    "method = 'ME-full'\n",
    "method_labels = results['method_labels'] \n",
    "method_index = method_labels.index(method)\n",
    "\n",
    "results0 = results['results'] \n",
    "method_results = results0[:, method_index]\n",
    "\n",
    "alpha = 0.01\n",
    "reps = len(method_results)"
   ]
  },
  {
   "cell_type": "code",
   "execution_count": null,
   "metadata": {
    "collapsed": false
   },
   "outputs": [],
   "source": [
    "def methods_powers(R):\n",
    "    \"\"\"Return the powers of all methods\"\"\"\n",
    "    n_methods = len(R['method_labels'])\n",
    "    met_powers = np.zeros(n_methods)\n",
    "    results0 = R['results'] \n",
    "    for mi in range(n_methods):\n",
    "        method_results = results0[:, mi]\n",
    "        pvals = np.array([method_results[r]['test_result']['pvalue'] for r in range(reps)] )\n",
    "        met_powers[mi] = np.mean(pvals < alpha)\n",
    "    return met_powers\n",
    "        \n",
    "met_pows = methods_powers(results)\n",
    "print('test powers: %s'% met_pows)\n",
    "print(method_labels)\n"
   ]
  },
  {
   "cell_type": "code",
   "execution_count": null,
   "metadata": {
    "collapsed": false,
    "scrolled": true
   },
   "outputs": [],
   "source": [
    "# load terms \n",
    "data = glo.load_data_file(data_fname)\n",
    "terms = data['words']"
   ]
  },
  {
   "cell_type": "code",
   "execution_count": null,
   "metadata": {
    "collapsed": false
   },
   "outputs": [],
   "source": [
    "pvals = np.zeros(reps)\n",
    "test_methods = []\n",
    "locs = []\n",
    "for r in xrange(reps):\n",
    "    test = method_results[r]['test_method']\n",
    "    test_methods.append(test)\n",
    "    test_result = method_results[r]['test_result']\n",
    "    pvals[r] = test_result['pvalue']"
   ]
  },
  {
   "cell_type": "code",
   "execution_count": null,
   "metadata": {
    "collapsed": false
   },
   "outputs": [],
   "source": [
    "test_power = np.mean(pvals < alpha)\n",
    "plt.plot(pvals)\n",
    "plt.xlabel('trial')\n",
    "plt.ylabel('pvalue')\n",
    "plt.title('test power: %.3g'%(test_power))"
   ]
  },
  {
   "cell_type": "code",
   "execution_count": null,
   "metadata": {
    "collapsed": false,
    "scrolled": true
   },
   "outputs": [],
   "source": [
    "# learned test locations from all trials. reps x d\n",
    "if method == 'ME-full':\n",
    "    k = 5\n",
    "    locs = np.array( [test_methods[r].test_locs[0] for r in range(reps)] )\n",
    "    scores = np.array([ np.abs(row)/np.linalg.norm(row, ord=1) for row in locs])\n",
    "    topk_ind = np.array([ np.argsort(-s)[:k] for s in scores])\n",
    "    ind_count = np.bincount(topk_ind.flatten())\n",
    "    eff_wind = np.where(ind_count)[0]\n",
    "    eff_count = ind_count[eff_wind]\n",
    "\n",
    "    # sort by occurrence frequencies in descending order\n",
    "    sind = np.argsort(-eff_count)\n",
    "    seff_wind = eff_wind[sind]\n",
    "    seff_count = eff_count[sind]\n",
    "    plt.stem(seff_count)\n",
    "    for t in terms[seff_wind]:\n",
    "        print t, \n"
   ]
  },
  {
   "cell_type": "code",
   "execution_count": null,
   "metadata": {
    "collapsed": false,
    "scrolled": false
   },
   "outputs": [],
   "source": [
    "def table_powers(result_fnames, fname_labels):\n",
    "    \"\"\"print a table showing test powers of all methods in all the result files.\"\"\"\n",
    "    met_pows = []\n",
    "    ntes = []\n",
    "    for fi, fname in enumerate(result_fnames):\n",
    "        results = glo.ex_load_result(ex, fname)\n",
    "        tr_proportion = results['tr_proportion']\n",
    "        te_proportion = 1-tr_proportion\n",
    "        data_fname = results['data_fname']\n",
    "        # load data to get the sample size\n",
    "        tst_data, n = load_nips_TSTData(data_fname)\n",
    "        nte = int(te_proportion*n)\n",
    "        ntes.append(nte)\n",
    "        met_pows.append(methods_powers(results))\n",
    "        \n",
    "    method_labels = results['method_labels']\n",
    "    print(method_labels)\n",
    "    for fnlabel, mps, n in zip(fname_labels, met_pows, ntes):\n",
    "        mps_str = [('%.3f'%p).lstrip('0') for p in mps]\n",
    "        str_row = [fnlabel] + ['%d'%n] + mps_str\n",
    "        print ' & '.join(str_row),\n",
    "        print(' \\\\\\\\ \\n')\n",
    "\n",
    "table_powers(result_fnames, fname_labels)"
   ]
  },
  {
   "cell_type": "code",
   "execution_count": null,
   "metadata": {
    "collapsed": false
   },
   "outputs": [],
   "source": [
    "print('%0.2f'%0.234)"
   ]
  },
  {
   "cell_type": "code",
   "execution_count": null,
   "metadata": {
    "collapsed": false
   },
   "outputs": [],
   "source": [
    "('%.2f'%0.8325).lstrip('0')"
   ]
  },
  {
   "cell_type": "code",
   "execution_count": null,
   "metadata": {
    "collapsed": true
   },
   "outputs": [],
   "source": []
  }
 ],
 "metadata": {
  "kernelspec": {
   "display_name": "Python 2",
   "language": "python",
   "name": "python2"
  },
  "language_info": {
   "codemirror_mode": {
    "name": "ipython",
    "version": 2
   },
   "file_extension": ".py",
   "mimetype": "text/x-python",
   "name": "python",
   "nbconvert_exporter": "python",
   "pygments_lexer": "ipython2",
   "version": "2.7.11"
  }
 },
 "nbformat": 4,
 "nbformat_minor": 0
}
