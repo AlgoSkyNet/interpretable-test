{
 "cells": [
  {
   "cell_type": "markdown",
   "metadata": {},
   "source": [
    "Process results of experiments on text data"
   ]
  },
  {
   "cell_type": "code",
   "execution_count": null,
   "metadata": {
    "collapsed": false,
    "scrolled": true
   },
   "outputs": [],
   "source": [
    "%load_ext autoreload\n",
    "%autoreload 2\n",
    "%matplotlib inline\n",
    "#%config InlineBackend.figure_format = 'svg'\n",
    "#%config InlineBackend.figure_format = 'pdf'\n",
    "import freqopttest.util as util\n",
    "import freqopttest.data as data\n",
    "import freqopttest.ex.exglobal as exglo\n",
    "import freqopttest.kernel as kernel\n",
    "import freqopttest.tst as tst\n",
    "import freqopttest.glo as glo\n",
    "import freqopttest.plot as plot\n",
    "import matplotlib.pyplot as plt\n",
    "import numpy as np\n",
    "import scipy.stats as stats\n",
    "import sys"
   ]
  },
  {
   "cell_type": "code",
   "execution_count": null,
   "metadata": {
    "collapsed": false
   },
   "outputs": [],
   "source": [
    "#fname = 'ex4-bayes_neuro_d300_rnoun-me4_J1_rs300_nma788_d300_a0.010_trp0.50.p'\n",
    "#fname = 'ex4-bayes_deep_d1000_rnoun-me4_J1_rs300_nma433_d1000_a0.010_trp0.50.p'\n",
    "#fname = 'ex4-bayes_neuro_d800_rverb-me4_J1_rs300_nma788_d800_a0.010_trp0.50.p'\n",
    "fname = 'ex4-bayes_neuro_d2000_rnoun-me4_J1_rs300_nma788_d2000_a0.010_trp0.50.p'\n",
    "#fname = 'ex4-deep_learning_d1000_rnoun-me4_J1_rs300_nma339_d1000_a0.010_trp0.50.p'\n",
    "ex = 4\n",
    "results = glo.ex_load_result(ex, fname)"
   ]
  },
  {
   "cell_type": "code",
   "execution_count": null,
   "metadata": {
    "collapsed": false
   },
   "outputs": [],
   "source": [
    "data_fname = results['data_fname']\n",
    "#labels = ['ME-full', 'ME-opt-0.5', 'ME-full', 'ME-gw-opt', \n",
    "#        'ME-grid', 'SCF-full', 'SCF-full', 'SCF-gw-opt', 'SCF-grid',\n",
    "#        'MMD-lin', '$T^2$']\n",
    "\n",
    "method = 'ME-full'\n",
    "method_labels = results['method_labels'] \n",
    "method_index = method_labels.index(method)\n",
    "\n",
    "results0 = results['results'] \n",
    "method_results = results0[:, method_index]\n",
    "\n",
    "alpha = 0.01\n",
    "reps = len(method_results)"
   ]
  },
  {
   "cell_type": "code",
   "execution_count": null,
   "metadata": {
    "collapsed": false
   },
   "outputs": [],
   "source": [
    "def methods_powers(R):\n",
    "    \"\"\"Return the powers of all methods\"\"\"\n",
    "    n_methods = len(results['method_labels'])\n",
    "    met_powers = np.zeros(n_methods)\n",
    "    results0 = R['results'] \n",
    "    for mi in range(n_methods):\n",
    "        method_results = results0[:, mi]\n",
    "        pvals = np.array([method_results[r]['test_result']['pvalue'] for r in range(reps)] )\n",
    "        met_powers[mi] = np.mean(pvals < alpha)\n",
    "    return met_powers\n",
    "        \n",
    "met_pows = methods_powers(results)\n",
    "print('test powers: %s'% met_pows)\n",
    "print(method_labels)\n"
   ]
  },
  {
   "cell_type": "code",
   "execution_count": null,
   "metadata": {
    "collapsed": false,
    "scrolled": true
   },
   "outputs": [],
   "source": [
    "# load terms \n",
    "data = glo.load_data_file(data_fname)\n",
    "terms = data['words']"
   ]
  },
  {
   "cell_type": "code",
   "execution_count": null,
   "metadata": {
    "collapsed": false
   },
   "outputs": [],
   "source": [
    "pvals = np.zeros(reps)\n",
    "test_methods = []\n",
    "locs = []\n",
    "for r in xrange(reps):\n",
    "    test = method_results[r]['test_method']\n",
    "    test_methods.append(test)\n",
    "    test_result = method_results[r]['test_result']\n",
    "    pvals[r] = test_result['pvalue']"
   ]
  },
  {
   "cell_type": "code",
   "execution_count": null,
   "metadata": {
    "collapsed": false
   },
   "outputs": [],
   "source": [
    "test_power = np.mean(pvals < alpha)\n",
    "plt.plot(pvals)\n",
    "plt.xlabel('trial')\n",
    "plt.ylabel('pvalue')\n",
    "plt.title('test power: %.3g'%(test_power))"
   ]
  },
  {
   "cell_type": "code",
   "execution_count": null,
   "metadata": {
    "collapsed": false,
    "scrolled": true
   },
   "outputs": [],
   "source": [
    "# learned test locations from all trials. reps x d\n",
    "if method == 'ME-full':\n",
    "    k = 3\n",
    "    locs = np.array( [test_methods[r].test_locs[0] for r in range(reps)] )\n",
    "    scores = np.array([ np.abs(row)/np.linalg.norm(row, ord=1) for row in locs])\n",
    "    topk_ind = np.array([ np.argsort(-s)[:k] for s in scores])\n",
    "    ind_count = np.bincount(topk_ind.flatten())\n",
    "    eff_wind = np.where(ind_count)[0]\n",
    "    eff_count = ind_count[eff_wind]\n",
    "\n",
    "    # sort by occurrence frequencies in descending order\n",
    "    sind = np.argsort(-eff_count)\n",
    "    seff_wind = eff_wind[sind]\n",
    "    seff_count = eff_count[sind]\n",
    "    plt.stem(seff_count)\n",
    "    for t in terms[seff_wind]:\n",
    "        print t, \n"
   ]
  },
  {
   "cell_type": "code",
   "execution_count": null,
   "metadata": {
    "collapsed": false,
    "scrolled": false
   },
   "outputs": [],
   "source": []
  },
  {
   "cell_type": "code",
   "execution_count": null,
   "metadata": {
    "collapsed": true
   },
   "outputs": [],
   "source": []
  }
 ],
 "metadata": {
  "kernelspec": {
   "display_name": "Python 2",
   "language": "python",
   "name": "python2"
  },
  "language_info": {
   "codemirror_mode": {
    "name": "ipython",
    "version": 2
   },
   "file_extension": ".py",
   "mimetype": "text/x-python",
   "name": "python",
   "nbconvert_exporter": "python",
   "pygments_lexer": "ipython2",
   "version": "2.7.11"
  }
 },
 "nbformat": 4,
 "nbformat_minor": 0
}
