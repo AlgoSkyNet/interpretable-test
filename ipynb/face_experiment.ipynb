{
 "cells": [
  {
   "cell_type": "code",
   "execution_count": null,
   "metadata": {
    "collapsed": false
   },
   "outputs": [],
   "source": [
    "%load_ext autoreload\n",
    "%autoreload 2\n",
    "%matplotlib inline\n",
    "#%config InlineBackend.figure_format = 'svg'\n",
    "#%config InlineBackend.figure_format = 'pdf'\n",
    "import freqopttest.util as util\n",
    "import freqopttest.data as data\n",
    "import freqopttest.ex.exglobal as exglo\n",
    "from freqopttest.ex.ex4_text import load_nips_TSTData\n",
    "import freqopttest.kernel as kernel\n",
    "import freqopttest.tst as tst\n",
    "import freqopttest.glo as glo\n",
    "import freqopttest.plot as plot\n",
    "import matplotlib.pyplot as plt\n",
    "import numpy as np\n",
    "import os\n",
    "import scipy.stats as stats\n",
    "\n",
    "import skimage.io as io\n",
    "import skimage as ski\n",
    "import skimage.filters as filters\n",
    "\n",
    "try:\n",
    "    import cPickle as pickle\n",
    "except:\n",
    "    import pickle"
   ]
  },
  {
   "cell_type": "code",
   "execution_count": null,
   "metadata": {
    "collapsed": true
   },
   "outputs": [],
   "source": [
    "def showim(img):\n",
    "    plt.imshow(img, cmap=plt.cm.gray, interpolation='Nearest')"
   ]
  },
  {
   "cell_type": "code",
   "execution_count": null,
   "metadata": {
    "collapsed": false
   },
   "outputs": [],
   "source": [
    "# http://www.scipy-lectures.org/advanced/image_processing/\n",
    "img = io.imread('../freqopttest/data/karolinska/S_64/AF01AFS.JPG')\n",
    "showim(img)"
   ]
  },
  {
   "cell_type": "markdown",
   "metadata": {
    "collapsed": true
   },
   "source": [
    "## Generate data\n"
   ]
  },
  {
   "cell_type": "code",
   "execution_count": null,
   "metadata": {
    "collapsed": true
   },
   "outputs": [],
   "source": [
    "def read_gen_ndarray(dir_path):\n",
    "    ld = os.listdir(dir_path)\n",
    "    list_imgs = []\n",
    "    for fname in sorted(ld):\n",
    "        fpath = os.path.join(dir_path, fname)\n",
    "        img = io.imread(fpath)\n",
    "        flat = img.flatten()\n",
    "        if flat.shape[0] != 3008:\n",
    "            print fpath\n",
    "        list_imgs.append(flat)\n",
    "    ndarray = np.vstack(list_imgs)\n",
    "    return ndarray"
   ]
  },
  {
   "cell_type": "code",
   "execution_count": null,
   "metadata": {
    "collapsed": false
   },
   "outputs": [],
   "source": [
    "# path to the folder containing images for X\n",
    "x_path = glo.data_file('karolinska/S_64_group/HA_NE_SU')\n",
    "y_path = glo.data_file('karolinska/S_64_group/AF_AN_DI')\n",
    "X = read_gen_ndarray(x_path)\n",
    "Y = read_gen_ndarray(y_path)"
   ]
  },
  {
   "cell_type": "code",
   "execution_count": null,
   "metadata": {
    "collapsed": false
   },
   "outputs": [],
   "source": [
    "# make the sizes of the two samples the same\n",
    "n_min = min(X.shape[0], Y.shape[0])\n",
    "X = X[:n_min]\n",
    "Y = Y[:n_min]\n",
    "assert(X.shape[0] == Y.shape[0])"
   ]
  },
  {
   "cell_type": "code",
   "execution_count": null,
   "metadata": {
    "collapsed": false
   },
   "outputs": [],
   "source": [
    "# write the data as a TSTData\n",
    "tst_label = 'S_64_gray'\n",
    "tst_data = tst.TSTData(X, Y, tst_label)\n",
    "data_dest = glo.data_file('karolinska', '%s.p'%tst_label)\n",
    "with open(data_dest, 'w') as f:\n",
    "    pickle.dump(tst_data, f)"
   ]
  },
  {
   "cell_type": "code",
   "execution_count": null,
   "metadata": {
    "collapsed": true
   },
   "outputs": [],
   "source": []
  }
 ],
 "metadata": {
  "kernelspec": {
   "display_name": "Python 2",
   "language": "python",
   "name": "python2"
  },
  "language_info": {
   "codemirror_mode": {
    "name": "ipython",
    "version": 2
   },
   "file_extension": ".py",
   "mimetype": "text/x-python",
   "name": "python",
   "nbconvert_exporter": "python",
   "pygments_lexer": "ipython2",
   "version": "2.7.11"
  }
 },
 "nbformat": 4,
 "nbformat_minor": 0
}
